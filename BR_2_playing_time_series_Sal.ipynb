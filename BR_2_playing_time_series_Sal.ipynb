{
 "cells": [
  {
   "cell_type": "markdown",
   "id": "da7712b7",
   "metadata": {},
   "source": [
    "# Time Series - Salinity (and a little bit about precipitation) "
   ]
  },
  {
   "cell_type": "markdown",
   "id": "e5962953",
   "metadata": {},
   "source": [
    "## Load the necessary modules and the time series file:"
   ]
  },
  {
   "cell_type": "code",
   "execution_count": 47,
   "id": "4e2f062e",
   "metadata": {},
   "outputs": [],
   "source": [
    "import matplotlib.pyplot as plt\n",
    "import matplotlib.colors as mclr\n",
    "import matplotlib.dates as dates\n",
    "import pandas as pd\n",
    "import numpy as np\n",
    "import scipy as sp\n",
    "import seaborn as sns\n",
    "import statsmodels.api as sm\n",
    "import datetime\n",
    "%matplotlib qt5\n",
    "plt.rcParams.update({'font.size': 18,'font.family':'serif','font.serif':'Arial'})"
   ]
  },
  {
   "cell_type": "markdown",
   "id": "9825d728",
   "metadata": {},
   "source": [
    "## Load data"
   ]
  },
  {
   "cell_type": "markdown",
   "id": "8624aa88",
   "metadata": {},
   "source": [
    "We will use pandas to load a csv file:\n",
    "We add one file with temperature, salinity, etc. And other dataset with precipitation"
   ]
  },
  {
   "cell_type": "code",
   "execution_count": 48,
   "id": "92366911",
   "metadata": {},
   "outputs": [],
   "source": [
    "\n",
    "data=pd.read_csv('C:/Users/brdera001/Downloads/Time_series/Python/data.csv')\n",
    "data['Date'] = pd.to_datetime(data['Date'])\n",
    "prec = pd.read_csv('C:/Users/brdera001/Downloads/Time_series/Python/precipitation_helgoland.csv')\n",
    "prec['Date'] = pd.to_datetime(prec['Date'])\n"
   ]
  },
  {
   "cell_type": "code",
   "execution_count": 49,
   "id": "3081de8d",
   "metadata": {},
   "outputs": [
    {
     "name": "stdout",
     "output_type": "stream",
     "text": [
      "<class 'pandas.core.frame.DataFrame'>\n",
      "RangeIndex: 21275 entries, 0 to 21274\n",
      "Data columns (total 7 columns):\n",
      " #   Column       Non-Null Count  Dtype         \n",
      "---  ------       --------------  -----         \n",
      " 0   Date         21275 non-null  datetime64[ns]\n",
      " 1   SECCHI       11917 non-null  float64       \n",
      " 2   temperature  13864 non-null  float64       \n",
      " 3   Salinity     13669 non-null  float64       \n",
      " 4   Chl_a_Hplc   1585 non-null   float64       \n",
      " 5   pH           2018 non-null   float64       \n",
      " 6   sunlight     19084 non-null  float64       \n",
      "dtypes: datetime64[ns](1), float64(6)\n",
      "memory usage: 1.1 MB\n"
     ]
    }
   ],
   "source": [
    "data.info()"
   ]
  },
  {
   "cell_type": "code",
   "execution_count": 50,
   "id": "7d52bda4",
   "metadata": {},
   "outputs": [
    {
     "name": "stdout",
     "output_type": "stream",
     "text": [
      "<class 'pandas.core.frame.DataFrame'>\n",
      "RangeIndex: 23191 entries, 0 to 23190\n",
      "Data columns (total 2 columns):\n",
      " #   Column         Non-Null Count  Dtype         \n",
      "---  ------         --------------  -----         \n",
      " 0   Date           23191 non-null  datetime64[ns]\n",
      " 1   precipitation  23191 non-null  float64       \n",
      "dtypes: datetime64[ns](1), float64(1)\n",
      "memory usage: 362.5 KB\n"
     ]
    }
   ],
   "source": [
    "prec.info()"
   ]
  },
  {
   "cell_type": "code",
   "execution_count": 51,
   "id": "099eb35f",
   "metadata": {},
   "outputs": [
    {
     "data": {
      "text/html": [
       "<div>\n",
       "<style scoped>\n",
       "    .dataframe tbody tr th:only-of-type {\n",
       "        vertical-align: middle;\n",
       "    }\n",
       "\n",
       "    .dataframe tbody tr th {\n",
       "        vertical-align: top;\n",
       "    }\n",
       "\n",
       "    .dataframe thead th {\n",
       "        text-align: right;\n",
       "    }\n",
       "</style>\n",
       "<table border=\"1\" class=\"dataframe\">\n",
       "  <thead>\n",
       "    <tr style=\"text-align: right;\">\n",
       "      <th></th>\n",
       "      <th>Date</th>\n",
       "      <th>SECCHI</th>\n",
       "      <th>temperature</th>\n",
       "      <th>Salinity</th>\n",
       "      <th>Chl_a_Hplc</th>\n",
       "      <th>pH</th>\n",
       "      <th>sunlight</th>\n",
       "      <th>precipitation</th>\n",
       "    </tr>\n",
       "  </thead>\n",
       "  <tbody>\n",
       "    <tr>\n",
       "      <th>count</th>\n",
       "      <td>21275</td>\n",
       "      <td>11917.000000</td>\n",
       "      <td>13864.000000</td>\n",
       "      <td>13669.000000</td>\n",
       "      <td>1585.000000</td>\n",
       "      <td>2018.000000</td>\n",
       "      <td>19084.000000</td>\n",
       "      <td>21275.000000</td>\n",
       "    </tr>\n",
       "    <tr>\n",
       "      <th>mean</th>\n",
       "      <td>1991-02-15 00:00:00</td>\n",
       "      <td>3.571159</td>\n",
       "      <td>10.279645</td>\n",
       "      <td>32.147013</td>\n",
       "      <td>1.938774</td>\n",
       "      <td>8.217589</td>\n",
       "      <td>4.766438</td>\n",
       "      <td>2.024761</td>\n",
       "    </tr>\n",
       "    <tr>\n",
       "      <th>min</th>\n",
       "      <td>1962-01-01 00:00:00</td>\n",
       "      <td>0.100000</td>\n",
       "      <td>-1.600000</td>\n",
       "      <td>22.745000</td>\n",
       "      <td>0.027000</td>\n",
       "      <td>7.140000</td>\n",
       "      <td>0.000000</td>\n",
       "      <td>0.000000</td>\n",
       "    </tr>\n",
       "    <tr>\n",
       "      <th>25%</th>\n",
       "      <td>1976-07-24 12:00:00</td>\n",
       "      <td>2.000000</td>\n",
       "      <td>5.700000</td>\n",
       "      <td>31.519000</td>\n",
       "      <td>0.624000</td>\n",
       "      <td>8.154000</td>\n",
       "      <td>0.400000</td>\n",
       "      <td>0.000000</td>\n",
       "    </tr>\n",
       "    <tr>\n",
       "      <th>50%</th>\n",
       "      <td>1991-02-15 00:00:00</td>\n",
       "      <td>3.500000</td>\n",
       "      <td>10.200000</td>\n",
       "      <td>32.332000</td>\n",
       "      <td>1.196000</td>\n",
       "      <td>8.200000</td>\n",
       "      <td>3.700000</td>\n",
       "      <td>0.100000</td>\n",
       "    </tr>\n",
       "    <tr>\n",
       "      <th>75%</th>\n",
       "      <td>2005-09-07 12:00:00</td>\n",
       "      <td>4.900000</td>\n",
       "      <td>15.100000</td>\n",
       "      <td>33.014000</td>\n",
       "      <td>2.208000</td>\n",
       "      <td>8.270000</td>\n",
       "      <td>8.100000</td>\n",
       "      <td>2.200000</td>\n",
       "    </tr>\n",
       "    <tr>\n",
       "      <th>max</th>\n",
       "      <td>2020-03-31 00:00:00</td>\n",
       "      <td>12.500000</td>\n",
       "      <td>20.200000</td>\n",
       "      <td>36.106000</td>\n",
       "      <td>70.600000</td>\n",
       "      <td>9.570000</td>\n",
       "      <td>16.600000</td>\n",
       "      <td>64.900000</td>\n",
       "    </tr>\n",
       "    <tr>\n",
       "      <th>std</th>\n",
       "      <td>NaN</td>\n",
       "      <td>1.833159</td>\n",
       "      <td>5.041619</td>\n",
       "      <td>1.220393</td>\n",
       "      <td>3.090959</td>\n",
       "      <td>0.121145</td>\n",
       "      <td>4.527239</td>\n",
       "      <td>4.151484</td>\n",
       "    </tr>\n",
       "  </tbody>\n",
       "</table>\n",
       "</div>"
      ],
      "text/plain": [
       "                      Date        SECCHI   temperature      Salinity  \\\n",
       "count                21275  11917.000000  13864.000000  13669.000000   \n",
       "mean   1991-02-15 00:00:00      3.571159     10.279645     32.147013   \n",
       "min    1962-01-01 00:00:00      0.100000     -1.600000     22.745000   \n",
       "25%    1976-07-24 12:00:00      2.000000      5.700000     31.519000   \n",
       "50%    1991-02-15 00:00:00      3.500000     10.200000     32.332000   \n",
       "75%    2005-09-07 12:00:00      4.900000     15.100000     33.014000   \n",
       "max    2020-03-31 00:00:00     12.500000     20.200000     36.106000   \n",
       "std                    NaN      1.833159      5.041619      1.220393   \n",
       "\n",
       "        Chl_a_Hplc           pH      sunlight  precipitation  \n",
       "count  1585.000000  2018.000000  19084.000000   21275.000000  \n",
       "mean      1.938774     8.217589      4.766438       2.024761  \n",
       "min       0.027000     7.140000      0.000000       0.000000  \n",
       "25%       0.624000     8.154000      0.400000       0.000000  \n",
       "50%       1.196000     8.200000      3.700000       0.100000  \n",
       "75%       2.208000     8.270000      8.100000       2.200000  \n",
       "max      70.600000     9.570000     16.600000      64.900000  \n",
       "std       3.090959     0.121145      4.527239       4.151484  "
      ]
     },
     "execution_count": 51,
     "metadata": {},
     "output_type": "execute_result"
    }
   ],
   "source": [
    "#merge the datasets\n",
    "data_prec = pd.merge(data, prec, on = \"Date\")\n",
    "data_prec.describe()"
   ]
  },
  {
   "cell_type": "code",
   "execution_count": 6,
   "id": "bedcdd47",
   "metadata": {},
   "outputs": [
    {
     "data": {
      "text/html": [
       "<div>\n",
       "<style scoped>\n",
       "    .dataframe tbody tr th:only-of-type {\n",
       "        vertical-align: middle;\n",
       "    }\n",
       "\n",
       "    .dataframe tbody tr th {\n",
       "        vertical-align: top;\n",
       "    }\n",
       "\n",
       "    .dataframe thead th {\n",
       "        text-align: right;\n",
       "    }\n",
       "</style>\n",
       "<table border=\"1\" class=\"dataframe\">\n",
       "  <thead>\n",
       "    <tr style=\"text-align: right;\">\n",
       "      <th></th>\n",
       "      <th>Date</th>\n",
       "      <th>SECCHI</th>\n",
       "      <th>temperature</th>\n",
       "      <th>Salinity</th>\n",
       "      <th>Chl_a_Hplc</th>\n",
       "      <th>pH</th>\n",
       "      <th>sunlight</th>\n",
       "      <th>precipitation</th>\n",
       "    </tr>\n",
       "  </thead>\n",
       "  <tbody>\n",
       "  </tbody>\n",
       "</table>\n",
       "</div>"
      ],
      "text/plain": [
       "Empty DataFrame\n",
       "Columns: [Date, SECCHI, temperature, Salinity, Chl_a_Hplc, pH, sunlight, precipitation]\n",
       "Index: []"
      ]
     },
     "execution_count": 6,
     "metadata": {},
     "output_type": "execute_result"
    }
   ],
   "source": [
    "#chech for duplicates\n",
    "data_prec[data_prec.duplicated(subset=['Date'])]"
   ]
  },
  {
   "cell_type": "code",
   "execution_count": 202,
   "id": "28b69a19-1e17-4be9-b3e2-d74ba14696bb",
   "metadata": {},
   "outputs": [
    {
     "data": {
      "text/plain": [
       "<Axes: >"
      ]
     },
     "execution_count": 202,
     "metadata": {},
     "output_type": "execute_result"
    }
   ],
   "source": [
    "#GENERAL Correlation plot\n",
    "sns.heatmap(data_prec_n.corr())"
   ]
  },
  {
   "cell_type": "code",
   "execution_count": 10,
   "id": "03b38d12-fb17-4270-a217-d53aaad4b2c7",
   "metadata": {},
   "outputs": [],
   "source": [
    "#remove nan para o heatmap\n",
    "data_prec_n=data_prec.dropna()"
   ]
  },
  {
   "cell_type": "code",
   "execution_count": 28,
   "id": "6b4f62ca-420e-4631-9bf3-da93a36b04f7",
   "metadata": {},
   "outputs": [],
   "source": [
    "#heatmap better \n",
    "plt.figure(figsize=(12, 12))  # Increase the figure size\n",
    "corr_matrix=data_prec_n.corr()\n",
    "mask = np.zeros_like(corr_matrix)\n",
    "mask[np.triu_indices_from(mask)] = True\n",
    "\n",
    "# Create the heatmap using seaborn\n",
    "sns.heatmap(corr_matrix, mask=mask, cmap='Spectral', annot=True, fmt=\".2f\", linewidths=0.5)\n",
    "\n",
    "# Rotate the x-axis labels to vertical orientation\n",
    "plt.xticks(rotation=90)\n",
    "\n",
    "# Rotate the y-axis labels to horizontal orientation\n",
    "plt.xticks(rotation=360)\n",
    "\n",
    "# Increase font size for x and y axis labels\n",
    "plt.xticks(fontsize=12)\n",
    "plt.yticks(fontsize=12)\n",
    "\n",
    "plt.title('Correlation Matrix Heatmap')\n",
    "plt.show()"
   ]
  },
  {
   "cell_type": "code",
   "execution_count": null,
   "id": "53ece89a-5fac-45c2-89ed-a2172b76b182",
   "metadata": {},
   "outputs": [],
   "source": []
  },
  {
   "cell_type": "markdown",
   "id": "527c6884",
   "metadata": {},
   "source": [
    "## Boxplot - Salinity and precipitation"
   ]
  },
  {
   "cell_type": "code",
   "execution_count": 52,
   "id": "5536382b",
   "metadata": {},
   "outputs": [],
   "source": [
    "# Boxplot salinity\n",
    "\n",
    "plt.figure(figsize=(14,6),constrained_layout=True)\n",
    "ax = sns.boxplot(x=data.Date.dt.month, y=\"Salinity\", data=data_prec,\n",
    "                 showmeans=True,showfliers = True,color='darkgrey',#palette='colorblind',\n",
    "                 meanprops={'marker': 'o','markeredgecolor': 'black','markerfacecolor':'black','markersize':'5'},\n",
    "                )\n",
    "ax.set_ylabel('Salinity')\n",
    "ax.grid(ls='--')\n"
   ]
  },
  {
   "cell_type": "code",
   "execution_count": 53,
   "id": "81347cf1-46da-4431-b965-f2b90c1a78bc",
   "metadata": {},
   "outputs": [],
   "source": [
    "# Boxplot precipitation\n",
    "plt.figure(figsize=(14,6),constrained_layout=True)\n",
    "ax = sns.boxplot(x=data.Date.dt.month, y=\"precipitation\", data=data_prec,\n",
    "                 showmeans=True,showfliers = True,color='darkgrey',#palette='colorblind',\n",
    "                 meanprops={'marker': 'o','markeredgecolor': 'black','markerfacecolor':'black','markersize':'5'},\n",
    "                )\n",
    "ax.set_ylabel('Precipitation (mm)')\n",
    "ax.grid(ls='--')"
   ]
  },
  {
   "cell_type": "markdown",
   "id": "cf37cfcd",
   "metadata": {},
   "source": [
    "Boxplot defines outliers as follow:\n",
    "\n",
    "below Q1 − 1.5 IQR \n",
    "or \n",
    "above Q3 + 1.5 IQR\n",
    "\n",
    "Q1 first quartile (25%)\n",
    "\n",
    "Q3 third quartile (75%)\n",
    "\n",
    "IQR = Q3 - Q1"
   ]
  },
  {
   "cell_type": "markdown",
   "id": "eab7ea3d-500a-46e6-a4f5-2169e1d3fbe3",
   "metadata": {},
   "source": [
    "below Q1 − 1.5 IQR or above Q3 + 1.5 IQR #just the formula"
   ]
  },
  {
   "cell_type": "code",
   "execution_count": 54,
   "id": "c7ec2f6c",
   "metadata": {},
   "outputs": [],
   "source": [
    "#Salinity outliers\n",
    "q1=data_prec.Salinity[data_prec.Date.dt.month==1].describe()['25%']\n",
    "q3=data_prec.Salinity[data_prec.Date.dt.month==1].describe()['75%']\n",
    "iqr=q3-q1"
   ]
  },
  {
   "cell_type": "code",
   "execution_count": 55,
   "id": "b5a86ee5-c545-46bb-8605-b83b17c23f85",
   "metadata": {},
   "outputs": [],
   "source": [
    "#precipitation outliars\n",
    "q1=data_prec.precipitation[data_prec.Date.dt.month==1].describe()['25%']\n",
    "q3=data_prec.precipitation[data_prec.Date.dt.month==1].describe()['75%']\n",
    "iqr=q3-q1"
   ]
  },
  {
   "cell_type": "code",
   "execution_count": 35,
   "id": "15f1d5ae-56fa-443f-a382-61b9dbea74dc",
   "metadata": {},
   "outputs": [
    {
     "data": {
      "text/plain": [
       "2.4"
      ]
     },
     "execution_count": 35,
     "metadata": {},
     "output_type": "execute_result"
    }
   ],
   "source": [
    "iqr"
   ]
  },
  {
   "cell_type": "code",
   "execution_count": 56,
   "id": "329de21e",
   "metadata": {},
   "outputs": [],
   "source": [
    "#create a copy\n",
    "data_c=data_prec.copy()"
   ]
  },
  {
   "cell_type": "code",
   "execution_count": 57,
   "id": "f0b603e0",
   "metadata": {},
   "outputs": [
    {
     "name": "stderr",
     "output_type": "stream",
     "text": [
      "C:\\Users\\brdera001\\AppData\\Local\\Temp\\ipykernel_18660\\3765709812.py:10: SettingWithCopyWarning: \n",
      "A value is trying to be set on a copy of a slice from a DataFrame\n",
      "\n",
      "See the caveats in the documentation: https://pandas.pydata.org/pandas-docs/stable/user_guide/indexing.html#returning-a-view-versus-a-copy\n",
      "  data_c.Salinity[data_c.Date.dt.month==ii]=data_c.Salinity[data_c.Date.dt.month==ii][filter]\n",
      "C:\\Users\\brdera001\\AppData\\Local\\Temp\\ipykernel_18660\\3765709812.py:10: SettingWithCopyWarning: \n",
      "A value is trying to be set on a copy of a slice from a DataFrame\n",
      "\n",
      "See the caveats in the documentation: https://pandas.pydata.org/pandas-docs/stable/user_guide/indexing.html#returning-a-view-versus-a-copy\n",
      "  data_c.Salinity[data_c.Date.dt.month==ii]=data_c.Salinity[data_c.Date.dt.month==ii][filter]\n",
      "C:\\Users\\brdera001\\AppData\\Local\\Temp\\ipykernel_18660\\3765709812.py:10: SettingWithCopyWarning: \n",
      "A value is trying to be set on a copy of a slice from a DataFrame\n",
      "\n",
      "See the caveats in the documentation: https://pandas.pydata.org/pandas-docs/stable/user_guide/indexing.html#returning-a-view-versus-a-copy\n",
      "  data_c.Salinity[data_c.Date.dt.month==ii]=data_c.Salinity[data_c.Date.dt.month==ii][filter]\n",
      "C:\\Users\\brdera001\\AppData\\Local\\Temp\\ipykernel_18660\\3765709812.py:10: SettingWithCopyWarning: \n",
      "A value is trying to be set on a copy of a slice from a DataFrame\n",
      "\n",
      "See the caveats in the documentation: https://pandas.pydata.org/pandas-docs/stable/user_guide/indexing.html#returning-a-view-versus-a-copy\n",
      "  data_c.Salinity[data_c.Date.dt.month==ii]=data_c.Salinity[data_c.Date.dt.month==ii][filter]\n",
      "C:\\Users\\brdera001\\AppData\\Local\\Temp\\ipykernel_18660\\3765709812.py:10: SettingWithCopyWarning: \n",
      "A value is trying to be set on a copy of a slice from a DataFrame\n",
      "\n",
      "See the caveats in the documentation: https://pandas.pydata.org/pandas-docs/stable/user_guide/indexing.html#returning-a-view-versus-a-copy\n",
      "  data_c.Salinity[data_c.Date.dt.month==ii]=data_c.Salinity[data_c.Date.dt.month==ii][filter]\n",
      "C:\\Users\\brdera001\\AppData\\Local\\Temp\\ipykernel_18660\\3765709812.py:10: SettingWithCopyWarning: \n",
      "A value is trying to be set on a copy of a slice from a DataFrame\n",
      "\n",
      "See the caveats in the documentation: https://pandas.pydata.org/pandas-docs/stable/user_guide/indexing.html#returning-a-view-versus-a-copy\n",
      "  data_c.Salinity[data_c.Date.dt.month==ii]=data_c.Salinity[data_c.Date.dt.month==ii][filter]\n",
      "C:\\Users\\brdera001\\AppData\\Local\\Temp\\ipykernel_18660\\3765709812.py:10: SettingWithCopyWarning: \n",
      "A value is trying to be set on a copy of a slice from a DataFrame\n",
      "\n",
      "See the caveats in the documentation: https://pandas.pydata.org/pandas-docs/stable/user_guide/indexing.html#returning-a-view-versus-a-copy\n",
      "  data_c.Salinity[data_c.Date.dt.month==ii]=data_c.Salinity[data_c.Date.dt.month==ii][filter]\n",
      "C:\\Users\\brdera001\\AppData\\Local\\Temp\\ipykernel_18660\\3765709812.py:10: SettingWithCopyWarning: \n",
      "A value is trying to be set on a copy of a slice from a DataFrame\n",
      "\n",
      "See the caveats in the documentation: https://pandas.pydata.org/pandas-docs/stable/user_guide/indexing.html#returning-a-view-versus-a-copy\n",
      "  data_c.Salinity[data_c.Date.dt.month==ii]=data_c.Salinity[data_c.Date.dt.month==ii][filter]\n",
      "C:\\Users\\brdera001\\AppData\\Local\\Temp\\ipykernel_18660\\3765709812.py:10: SettingWithCopyWarning: \n",
      "A value is trying to be set on a copy of a slice from a DataFrame\n",
      "\n",
      "See the caveats in the documentation: https://pandas.pydata.org/pandas-docs/stable/user_guide/indexing.html#returning-a-view-versus-a-copy\n",
      "  data_c.Salinity[data_c.Date.dt.month==ii]=data_c.Salinity[data_c.Date.dt.month==ii][filter]\n",
      "C:\\Users\\brdera001\\AppData\\Local\\Temp\\ipykernel_18660\\3765709812.py:10: SettingWithCopyWarning: \n",
      "A value is trying to be set on a copy of a slice from a DataFrame\n",
      "\n",
      "See the caveats in the documentation: https://pandas.pydata.org/pandas-docs/stable/user_guide/indexing.html#returning-a-view-versus-a-copy\n",
      "  data_c.Salinity[data_c.Date.dt.month==ii]=data_c.Salinity[data_c.Date.dt.month==ii][filter]\n",
      "C:\\Users\\brdera001\\AppData\\Local\\Temp\\ipykernel_18660\\3765709812.py:10: SettingWithCopyWarning: \n",
      "A value is trying to be set on a copy of a slice from a DataFrame\n",
      "\n",
      "See the caveats in the documentation: https://pandas.pydata.org/pandas-docs/stable/user_guide/indexing.html#returning-a-view-versus-a-copy\n",
      "  data_c.Salinity[data_c.Date.dt.month==ii]=data_c.Salinity[data_c.Date.dt.month==ii][filter]\n",
      "C:\\Users\\brdera001\\AppData\\Local\\Temp\\ipykernel_18660\\3765709812.py:10: SettingWithCopyWarning: \n",
      "A value is trying to be set on a copy of a slice from a DataFrame\n",
      "\n",
      "See the caveats in the documentation: https://pandas.pydata.org/pandas-docs/stable/user_guide/indexing.html#returning-a-view-versus-a-copy\n",
      "  data_c.Salinity[data_c.Date.dt.month==ii]=data_c.Salinity[data_c.Date.dt.month==ii][filter]\n"
     ]
    }
   ],
   "source": [
    "#for salinity outliars\n",
    "months=np.arange(1,13)\n",
    "for ii in months:\n",
    "\n",
    "    q1=data_prec.Salinity[data_prec.Date.dt.month==ii].describe()['25%']\n",
    "    q3=data_prec.Salinity[data_prec.Date.dt.month==ii].describe()['75%']\n",
    "    iqr=q3-q1\n",
    "\n",
    "    filter = (data_prec['Salinity'][data_prec.Date.dt.month==ii] >= q1 - 1.5 * iqr) & (data_prec['Salinity'][data_prec.Date.dt.month==ii] <= q3 + 1.5 *iqr)\n",
    "    data_c.Salinity[data_c.Date.dt.month==ii]=data_c.Salinity[data_c.Date.dt.month==ii][filter]"
   ]
  },
  {
   "cell_type": "code",
   "execution_count": 58,
   "id": "8c83b262-d498-4a50-b56d-e4808b856096",
   "metadata": {},
   "outputs": [
    {
     "name": "stderr",
     "output_type": "stream",
     "text": [
      "C:\\Users\\brdera001\\AppData\\Local\\Temp\\ipykernel_18660\\623218170.py:10: SettingWithCopyWarning: \n",
      "A value is trying to be set on a copy of a slice from a DataFrame\n",
      "\n",
      "See the caveats in the documentation: https://pandas.pydata.org/pandas-docs/stable/user_guide/indexing.html#returning-a-view-versus-a-copy\n",
      "  data_c.precipitation[data_c.Date.dt.month==ii]=data_c.precipitation[data_c.Date.dt.month==ii][filter]\n",
      "C:\\Users\\brdera001\\AppData\\Local\\Temp\\ipykernel_18660\\623218170.py:10: SettingWithCopyWarning: \n",
      "A value is trying to be set on a copy of a slice from a DataFrame\n",
      "\n",
      "See the caveats in the documentation: https://pandas.pydata.org/pandas-docs/stable/user_guide/indexing.html#returning-a-view-versus-a-copy\n",
      "  data_c.precipitation[data_c.Date.dt.month==ii]=data_c.precipitation[data_c.Date.dt.month==ii][filter]\n",
      "C:\\Users\\brdera001\\AppData\\Local\\Temp\\ipykernel_18660\\623218170.py:10: SettingWithCopyWarning: \n",
      "A value is trying to be set on a copy of a slice from a DataFrame\n",
      "\n",
      "See the caveats in the documentation: https://pandas.pydata.org/pandas-docs/stable/user_guide/indexing.html#returning-a-view-versus-a-copy\n",
      "  data_c.precipitation[data_c.Date.dt.month==ii]=data_c.precipitation[data_c.Date.dt.month==ii][filter]\n",
      "C:\\Users\\brdera001\\AppData\\Local\\Temp\\ipykernel_18660\\623218170.py:10: SettingWithCopyWarning: \n",
      "A value is trying to be set on a copy of a slice from a DataFrame\n",
      "\n",
      "See the caveats in the documentation: https://pandas.pydata.org/pandas-docs/stable/user_guide/indexing.html#returning-a-view-versus-a-copy\n",
      "  data_c.precipitation[data_c.Date.dt.month==ii]=data_c.precipitation[data_c.Date.dt.month==ii][filter]\n",
      "C:\\Users\\brdera001\\AppData\\Local\\Temp\\ipykernel_18660\\623218170.py:10: SettingWithCopyWarning: \n",
      "A value is trying to be set on a copy of a slice from a DataFrame\n",
      "\n",
      "See the caveats in the documentation: https://pandas.pydata.org/pandas-docs/stable/user_guide/indexing.html#returning-a-view-versus-a-copy\n",
      "  data_c.precipitation[data_c.Date.dt.month==ii]=data_c.precipitation[data_c.Date.dt.month==ii][filter]\n",
      "C:\\Users\\brdera001\\AppData\\Local\\Temp\\ipykernel_18660\\623218170.py:10: SettingWithCopyWarning: \n",
      "A value is trying to be set on a copy of a slice from a DataFrame\n",
      "\n",
      "See the caveats in the documentation: https://pandas.pydata.org/pandas-docs/stable/user_guide/indexing.html#returning-a-view-versus-a-copy\n",
      "  data_c.precipitation[data_c.Date.dt.month==ii]=data_c.precipitation[data_c.Date.dt.month==ii][filter]\n",
      "C:\\Users\\brdera001\\AppData\\Local\\Temp\\ipykernel_18660\\623218170.py:10: SettingWithCopyWarning: \n",
      "A value is trying to be set on a copy of a slice from a DataFrame\n",
      "\n",
      "See the caveats in the documentation: https://pandas.pydata.org/pandas-docs/stable/user_guide/indexing.html#returning-a-view-versus-a-copy\n",
      "  data_c.precipitation[data_c.Date.dt.month==ii]=data_c.precipitation[data_c.Date.dt.month==ii][filter]\n",
      "C:\\Users\\brdera001\\AppData\\Local\\Temp\\ipykernel_18660\\623218170.py:10: SettingWithCopyWarning: \n",
      "A value is trying to be set on a copy of a slice from a DataFrame\n",
      "\n",
      "See the caveats in the documentation: https://pandas.pydata.org/pandas-docs/stable/user_guide/indexing.html#returning-a-view-versus-a-copy\n",
      "  data_c.precipitation[data_c.Date.dt.month==ii]=data_c.precipitation[data_c.Date.dt.month==ii][filter]\n",
      "C:\\Users\\brdera001\\AppData\\Local\\Temp\\ipykernel_18660\\623218170.py:10: SettingWithCopyWarning: \n",
      "A value is trying to be set on a copy of a slice from a DataFrame\n",
      "\n",
      "See the caveats in the documentation: https://pandas.pydata.org/pandas-docs/stable/user_guide/indexing.html#returning-a-view-versus-a-copy\n",
      "  data_c.precipitation[data_c.Date.dt.month==ii]=data_c.precipitation[data_c.Date.dt.month==ii][filter]\n",
      "C:\\Users\\brdera001\\AppData\\Local\\Temp\\ipykernel_18660\\623218170.py:10: SettingWithCopyWarning: \n",
      "A value is trying to be set on a copy of a slice from a DataFrame\n",
      "\n",
      "See the caveats in the documentation: https://pandas.pydata.org/pandas-docs/stable/user_guide/indexing.html#returning-a-view-versus-a-copy\n",
      "  data_c.precipitation[data_c.Date.dt.month==ii]=data_c.precipitation[data_c.Date.dt.month==ii][filter]\n",
      "C:\\Users\\brdera001\\AppData\\Local\\Temp\\ipykernel_18660\\623218170.py:10: SettingWithCopyWarning: \n",
      "A value is trying to be set on a copy of a slice from a DataFrame\n",
      "\n",
      "See the caveats in the documentation: https://pandas.pydata.org/pandas-docs/stable/user_guide/indexing.html#returning-a-view-versus-a-copy\n",
      "  data_c.precipitation[data_c.Date.dt.month==ii]=data_c.precipitation[data_c.Date.dt.month==ii][filter]\n",
      "C:\\Users\\brdera001\\AppData\\Local\\Temp\\ipykernel_18660\\623218170.py:10: SettingWithCopyWarning: \n",
      "A value is trying to be set on a copy of a slice from a DataFrame\n",
      "\n",
      "See the caveats in the documentation: https://pandas.pydata.org/pandas-docs/stable/user_guide/indexing.html#returning-a-view-versus-a-copy\n",
      "  data_c.precipitation[data_c.Date.dt.month==ii]=data_c.precipitation[data_c.Date.dt.month==ii][filter]\n"
     ]
    }
   ],
   "source": [
    "#for PRECIPITATION outliars\n",
    "months=np.arange(1,13)\n",
    "for ii in months:\n",
    "\n",
    "    q1=data_prec.precipitation[data_prec.Date.dt.month==ii].describe()['25%']\n",
    "    q3=data_prec.precipitation[data_prec.Date.dt.month==ii].describe()['75%']\n",
    "    iqr=q3-q1\n",
    "\n",
    "    filter = (data_prec['precipitation'][data_prec.Date.dt.month==ii] >= q1 - 1.5 * iqr) & (data_prec['precipitation'][data_prec.Date.dt.month==ii] <= q3 + 1.5 *iqr)\n",
    "    data_c.precipitation[data_c.Date.dt.month==ii]=data_c.precipitation[data_c.Date.dt.month==ii][filter]"
   ]
  },
  {
   "cell_type": "code",
   "execution_count": 95,
   "id": "bb86d6a3",
   "metadata": {},
   "outputs": [],
   "source": [
    "# Boxplot without outliers Salinity\n",
    "\n",
    "plt.figure(figsize=(14,6),constrained_layout=True)\n",
    "ax = sns.boxplot(x=data_c.Date.dt.month, y=\"Salinity\", data=data_c,\n",
    "                 showmeans=True,showfliers = True,color='darkgrey',#palette='colorblind',\n",
    "                 meanprops={'marker': 'o','markeredgecolor': 'black','markerfacecolor':'black','markersize':'5'},\n",
    "                )\n",
    "ax.set_ylabel('Salinity')\n",
    "ax.grid(ls='--')"
   ]
  },
  {
   "cell_type": "code",
   "execution_count": 94,
   "id": "c0843fee-2887-476e-9322-ea160d341ae1",
   "metadata": {},
   "outputs": [],
   "source": [
    "# Boxplot without outliers precipitation\n",
    "\n",
    "plt.figure(figsize=(14,6),constrained_layout=True)\n",
    "ax = sns.boxplot(x=data_c.Date.dt.month, y=\"precipitation\", data=data_c,\n",
    "                 showmeans=True,showfliers = True,color='darkgrey',#palette='colorblind',\n",
    "                 meanprops={'marker': 'o','markeredgecolor': 'black','markerfacecolor':'black','markersize':'5'},\n",
    "                )\n",
    "ax.set_ylabel('precipitation (mm)')\n",
    "ax.grid(ls='--')"
   ]
  },
  {
   "cell_type": "markdown",
   "id": "d5ae9f71",
   "metadata": {},
   "source": [
    "## Removing by standard deviation"
   ]
  },
  {
   "cell_type": "markdown",
   "id": "c7eb3f1d",
   "metadata": {},
   "source": [
    "In a normal distribution, the standard deviation is as follows:\n",
    "\n",
    "1 Standard Deviation from the Mean: 68%\n",
    "\n",
    "2 Standard Deviations from the Mean: 95%\n",
    "\n",
    "3 Standard Deviations from the Mean: 99.7%\n"
   ]
  },
  {
   "cell_type": "code",
   "execution_count": 61,
   "id": "2493a34f",
   "metadata": {},
   "outputs": [],
   "source": [
    "data2=data_prec.copy()"
   ]
  },
  {
   "cell_type": "code",
   "execution_count": 62,
   "id": "97fde642",
   "metadata": {},
   "outputs": [
    {
     "name": "stderr",
     "output_type": "stream",
     "text": [
      "C:\\Users\\brdera001\\AppData\\Local\\Temp\\ipykernel_18660\\399798275.py:9: SettingWithCopyWarning: \n",
      "A value is trying to be set on a copy of a slice from a DataFrame\n",
      "\n",
      "See the caveats in the documentation: https://pandas.pydata.org/pandas-docs/stable/user_guide/indexing.html#returning-a-view-versus-a-copy\n",
      "  data2.precipitation[data2.Date.dt.month==ii]=data2.precipitation[data2.Date.dt.month==ii][filter]\n",
      "C:\\Users\\brdera001\\AppData\\Local\\Temp\\ipykernel_18660\\399798275.py:9: SettingWithCopyWarning: \n",
      "A value is trying to be set on a copy of a slice from a DataFrame\n",
      "\n",
      "See the caveats in the documentation: https://pandas.pydata.org/pandas-docs/stable/user_guide/indexing.html#returning-a-view-versus-a-copy\n",
      "  data2.precipitation[data2.Date.dt.month==ii]=data2.precipitation[data2.Date.dt.month==ii][filter]\n",
      "C:\\Users\\brdera001\\AppData\\Local\\Temp\\ipykernel_18660\\399798275.py:9: SettingWithCopyWarning: \n",
      "A value is trying to be set on a copy of a slice from a DataFrame\n",
      "\n",
      "See the caveats in the documentation: https://pandas.pydata.org/pandas-docs/stable/user_guide/indexing.html#returning-a-view-versus-a-copy\n",
      "  data2.precipitation[data2.Date.dt.month==ii]=data2.precipitation[data2.Date.dt.month==ii][filter]\n",
      "C:\\Users\\brdera001\\AppData\\Local\\Temp\\ipykernel_18660\\399798275.py:9: SettingWithCopyWarning: \n",
      "A value is trying to be set on a copy of a slice from a DataFrame\n",
      "\n",
      "See the caveats in the documentation: https://pandas.pydata.org/pandas-docs/stable/user_guide/indexing.html#returning-a-view-versus-a-copy\n",
      "  data2.precipitation[data2.Date.dt.month==ii]=data2.precipitation[data2.Date.dt.month==ii][filter]\n",
      "C:\\Users\\brdera001\\AppData\\Local\\Temp\\ipykernel_18660\\399798275.py:9: SettingWithCopyWarning: \n",
      "A value is trying to be set on a copy of a slice from a DataFrame\n",
      "\n",
      "See the caveats in the documentation: https://pandas.pydata.org/pandas-docs/stable/user_guide/indexing.html#returning-a-view-versus-a-copy\n",
      "  data2.precipitation[data2.Date.dt.month==ii]=data2.precipitation[data2.Date.dt.month==ii][filter]\n",
      "C:\\Users\\brdera001\\AppData\\Local\\Temp\\ipykernel_18660\\399798275.py:9: SettingWithCopyWarning: \n",
      "A value is trying to be set on a copy of a slice from a DataFrame\n",
      "\n",
      "See the caveats in the documentation: https://pandas.pydata.org/pandas-docs/stable/user_guide/indexing.html#returning-a-view-versus-a-copy\n",
      "  data2.precipitation[data2.Date.dt.month==ii]=data2.precipitation[data2.Date.dt.month==ii][filter]\n",
      "C:\\Users\\brdera001\\AppData\\Local\\Temp\\ipykernel_18660\\399798275.py:9: SettingWithCopyWarning: \n",
      "A value is trying to be set on a copy of a slice from a DataFrame\n",
      "\n",
      "See the caveats in the documentation: https://pandas.pydata.org/pandas-docs/stable/user_guide/indexing.html#returning-a-view-versus-a-copy\n",
      "  data2.precipitation[data2.Date.dt.month==ii]=data2.precipitation[data2.Date.dt.month==ii][filter]\n",
      "C:\\Users\\brdera001\\AppData\\Local\\Temp\\ipykernel_18660\\399798275.py:9: SettingWithCopyWarning: \n",
      "A value is trying to be set on a copy of a slice from a DataFrame\n",
      "\n",
      "See the caveats in the documentation: https://pandas.pydata.org/pandas-docs/stable/user_guide/indexing.html#returning-a-view-versus-a-copy\n",
      "  data2.precipitation[data2.Date.dt.month==ii]=data2.precipitation[data2.Date.dt.month==ii][filter]\n",
      "C:\\Users\\brdera001\\AppData\\Local\\Temp\\ipykernel_18660\\399798275.py:9: SettingWithCopyWarning: \n",
      "A value is trying to be set on a copy of a slice from a DataFrame\n",
      "\n",
      "See the caveats in the documentation: https://pandas.pydata.org/pandas-docs/stable/user_guide/indexing.html#returning-a-view-versus-a-copy\n",
      "  data2.precipitation[data2.Date.dt.month==ii]=data2.precipitation[data2.Date.dt.month==ii][filter]\n",
      "C:\\Users\\brdera001\\AppData\\Local\\Temp\\ipykernel_18660\\399798275.py:9: SettingWithCopyWarning: \n",
      "A value is trying to be set on a copy of a slice from a DataFrame\n",
      "\n",
      "See the caveats in the documentation: https://pandas.pydata.org/pandas-docs/stable/user_guide/indexing.html#returning-a-view-versus-a-copy\n",
      "  data2.precipitation[data2.Date.dt.month==ii]=data2.precipitation[data2.Date.dt.month==ii][filter]\n",
      "C:\\Users\\brdera001\\AppData\\Local\\Temp\\ipykernel_18660\\399798275.py:9: SettingWithCopyWarning: \n",
      "A value is trying to be set on a copy of a slice from a DataFrame\n",
      "\n",
      "See the caveats in the documentation: https://pandas.pydata.org/pandas-docs/stable/user_guide/indexing.html#returning-a-view-versus-a-copy\n",
      "  data2.precipitation[data2.Date.dt.month==ii]=data2.precipitation[data2.Date.dt.month==ii][filter]\n",
      "C:\\Users\\brdera001\\AppData\\Local\\Temp\\ipykernel_18660\\399798275.py:9: SettingWithCopyWarning: \n",
      "A value is trying to be set on a copy of a slice from a DataFrame\n",
      "\n",
      "See the caveats in the documentation: https://pandas.pydata.org/pandas-docs/stable/user_guide/indexing.html#returning-a-view-versus-a-copy\n",
      "  data2.precipitation[data2.Date.dt.month==ii]=data2.precipitation[data2.Date.dt.month==ii][filter]\n"
     ]
    }
   ],
   "source": [
    "#identify and remove outliers for prec\n",
    "months=np.arange(1,13)\n",
    "for ii in months:\n",
    "\n",
    "    data_std=data2.precipitation[data2.Date.dt.month==ii].describe()['std']\n",
    "    data_mean=data2.precipitation[data2.Date.dt.month==ii].describe()['mean']    \n",
    "\n",
    "    filter = (data2['precipitation'][data2.Date.dt.month==ii] >= data_mean-data_std*3) & (data2['precipitation'][data2.Date.dt.month==ii] <= data_mean+data_std*3)\n",
    "    data2.precipitation[data2.Date.dt.month==ii]=data2.precipitation[data2.Date.dt.month==ii][filter]"
   ]
  },
  {
   "cell_type": "code",
   "execution_count": 65,
   "id": "a69a4a2b",
   "metadata": {},
   "outputs": [],
   "source": [
    "plt.figure(figsize=(12,6),constrained_layout=True)\n",
    "plt.plot(data_prec.Date,data_prec.precipitation,'r')\n",
    "months=np.arange(1,13)\n",
    "for ii in months:\n",
    "\n",
    "    data_std=data_prec.precipitation[data_prec.Date.dt.month==ii].describe()['std']\n",
    "    data_mean=data_prec.precipitation[data_prec.Date.dt.month==ii].describe()['mean'] \n",
    "    plt.fill_between(x=data_prec.Date[data_prec.Date.dt.month==ii], y1=data_mean-data_std*3,\n",
    "                     y2=data_mean+data_std*3,color='lightgrey',alpha=0.5)  \n",
    "plt.ylabel('Precipitation (mm)')\n",
    "plt.xlim(data_prec.Date[0],data_prec.Date.iloc[-1])\n",
    "plt.grid(ls='--')\n"
   ]
  },
  {
   "cell_type": "code",
   "execution_count": 65,
   "id": "e23b835a",
   "metadata": {},
   "outputs": [],
   "source": []
  },
  {
   "cell_type": "code",
   "execution_count": 66,
   "id": "3632dd96",
   "metadata": {},
   "outputs": [],
   "source": [
    "# Boxplot by year\n",
    "\n",
    "plt.figure(figsize=(14,6),constrained_layout=True)\n",
    "bp = sns.boxplot(x=data_prec.Date.dt.year, y=\"precipitation\", data=data_prec,\n",
    "                 showmeans=True,showfliers = True,color='darkgrey',#palette='colorblind',\n",
    "                 meanprops={'marker': 'o','markeredgecolor': 'black','markerfacecolor':'black','markersize':'5'},\n",
    "                )\n",
    "bp.set_ylabel('Precipitation (mm)')\n",
    "bp.set_xticklabels(bp.get_xticklabels(),rotation=60)\n",
    "bp.grid(ls='--')"
   ]
  },
  {
   "cell_type": "markdown",
   "id": "1398a9ad",
   "metadata": {},
   "source": [
    "## Very important, always plot your data before start analysis"
   ]
  },
  {
   "cell_type": "code",
   "execution_count": 71,
   "id": "37ebc2b0",
   "metadata": {},
   "outputs": [
    {
     "data": {
      "text/plain": [
       "<matplotlib.legend.Legend at 0x169039c08d0>"
      ]
     },
     "execution_count": 71,
     "metadata": {},
     "output_type": "execute_result"
    }
   ],
   "source": [
    "plt.figure(constrained_layout=True)\n",
    "plt.plot(data_prec.Date,data_prec.Salinity,'r',label='Salinity')\n",
    "plt.grid(ls='--')\n",
    "plt.legend()"
   ]
  },
  {
   "cell_type": "code",
   "execution_count": 70,
   "id": "ea0279dc-5cc1-423a-aa17-ad01a69783c2",
   "metadata": {},
   "outputs": [
    {
     "data": {
      "text/plain": [
       "<matplotlib.legend.Legend at 0x1695a7d0b10>"
      ]
     },
     "execution_count": 70,
     "metadata": {},
     "output_type": "execute_result"
    }
   ],
   "source": [
    "plt.figure(constrained_layout=True)\n",
    "plt.plot(data_prec.Date,data_prec.precipitation,'r',label='Precipitation (mm)')\n",
    "plt.grid(ls='--')\n",
    "plt.legend()"
   ]
  },
  {
   "cell_type": "code",
   "execution_count": 73,
   "id": "21a2f4c8",
   "metadata": {},
   "outputs": [],
   "source": [
    "#salinity plot\n",
    "plt.figure(figsize=(12,6),constrained_layout=True)\n",
    "plt.plot(data_prec.Date,data_c.Salinity,'-r',label='Salinity') #here using the clean data (data_c)\n",
    "plt.xlim(data_prec.Date[0],data_prec.Date.iloc[-1])\n",
    "plt.xlabel('Date')\n",
    "plt.ylabel('Salinity')\n",
    "plt.legend()\n",
    "plt.grid(ls='--')"
   ]
  },
  {
   "cell_type": "code",
   "execution_count": 74,
   "id": "86b41a28",
   "metadata": {},
   "outputs": [],
   "source": [
    "#precipitation plot\n",
    "plt.figure(figsize=(12,6),constrained_layout=True)\n",
    "plt.plot(data_prec.Date,data_c.precipitation,'-r',label='precipitation') #here using the clean data (data_c)\n",
    "plt.xlim(data_prec.Date[0],data_prec.Date.iloc[-1])\n",
    "plt.xlabel('Date')\n",
    "plt.ylabel('Precipitation (mm)')\n",
    "plt.legend()\n",
    "plt.grid(ls='--')"
   ]
  },
  {
   "cell_type": "code",
   "execution_count": 76,
   "id": "63114a0d",
   "metadata": {},
   "outputs": [],
   "source": [
    "#SALINITY AND PRECIPITATION\n",
    "plt.figure(figsize=(12,6),constrained_layout=True)\n",
    "pc1=plt.plot(data_prec.Date,data_c.precipitation,'-y',label='Precipitation') #here using the clean data (data_c)\n",
    "pc2=plt.plot(data_prec.Date,data_c.Salinity,'-r',label='Salinity') #here using the clean data (data_c)\n",
    "plt.xlim(data_prec.Date[0],data_prec.Date.iloc[-1])\n",
    "plt.xlabel('Date')\n",
    "plt.ylabel('Precipitation (mm)\\n Salinity')\n",
    "plt.legend()\n",
    "plt.grid(ls='--')"
   ]
  },
  {
   "cell_type": "markdown",
   "id": "da1ac8e2",
   "metadata": {},
   "source": [
    "## Subplot"
   ]
  },
  {
   "cell_type": "code",
   "execution_count": 77,
   "id": "a0a4ba47",
   "metadata": {},
   "outputs": [],
   "source": [
    "# Create figure and axis objects with subplots()\n",
    "fig,axs = plt.subplots(2, 1, figsize=(14,7),constrained_layout=True,sharex=True)\n",
    "axs=axs.flatten()\n",
    "\n",
    "# Make a plot\n",
    "pp1,=axs[0].plot(data_prec.Date,data_c.Salinity,'b-.',label='Salinity') #here using the clean data (data_c)\n",
    "axs[0].set_ylabel('Salinity')\n",
    "axs[0].set_xlim(data_prec.Date[0],data_prec.Date.iloc[-1])\n",
    "axs[0].grid(ls='dotted')\n",
    "axs[0].legend()\n",
    "\n",
    "pp2,=axs[1].plot(data_prec.Date,data_c.precipitation,'g',label='Precipitation') #here using the clean data (data_c)\n",
    "axs[1].set_ylabel('Precipitation (mm)')\n",
    "axs[1].legend()\n",
    "axs[1].set_xlim(data_prec.Date[0],data_prec.Date.iloc[-1])\n",
    "axs[1].grid(ls='dotted')"
   ]
  },
  {
   "cell_type": "markdown",
   "id": "a143d037",
   "metadata": {},
   "source": [
    "## Plot two variables with two y-axis"
   ]
  },
  {
   "cell_type": "code",
   "execution_count": 78,
   "id": "4d5a0dfd",
   "metadata": {},
   "outputs": [],
   "source": [
    "# create figure and axis objects with subplots()\n",
    "fig,ax = plt.subplots(figsize=(12,6),constrained_layout=True,sharex=True)\n",
    "# make a plot\n",
    "pc1,=ax.plot(data_prec.Date,data_c.precipitation,'g') #here using the clean data (data_c)\n",
    "# set y-axis label\n",
    "ax.set_ylabel('Precipitation (mm)',color='g')\n",
    "ax.grid(ls='--')\n",
    "twin1=ax.twinx()\n",
    "# make a plot with different y-axis using second axis object\n",
    "pc2,=twin1.plot(data_prec.Date,data_c.Salinity,'b') #here using the clean data (data_c)\n",
    "twin1.set_ylabel('Salinity',color='b')\n",
    "twin1.legend([pc1,pc2],['Precipitation','Salinity'])\n",
    "twin1.set_xlim(data.Date[0],data.Date.iloc[-1])\n",
    "twin1.grid(ls='dotted')"
   ]
  },
  {
   "cell_type": "code",
   "execution_count": 80,
   "id": "be1c3816",
   "metadata": {},
   "outputs": [],
   "source": [
    "yearlist = np.unique(data_prec.Date.dt.year)"
   ]
  },
  {
   "cell_type": "markdown",
   "id": "a82751e2",
   "metadata": {},
   "source": [
    "## Shading a period"
   ]
  },
  {
   "cell_type": "code",
   "execution_count": 83,
   "id": "1087892e",
   "metadata": {},
   "outputs": [],
   "source": [
    "plt.figure(figsize=(12,6))\n",
    "sc=plt.plot(data_prec.Date,data_c.Salinity,'b',label='Salinity') #here using the clean data (data_c)\n",
    "\n",
    "for ii in range(len(yearlist)):\n",
    "        \n",
    "    sc1=plt.axvspan(dates.date2num(datetime.datetime(int(yearlist[ii]),4,1)), dates.date2num(datetime.datetime(int(yearlist[ii]),6,1))\n",
    "                           , color='red', alpha=0.25)\n",
    "    sc2=plt.axvspan(dates.date2num(datetime.datetime(int(yearlist[ii]),9,1)), dates.date2num(datetime.datetime(int(yearlist[ii]),11,1))\n",
    "                           , color='yellow', alpha=0.25)\n",
    "plt.ylabel('Salinity')    \n",
    "plt.legend([sc1,sc2],['spring','autumn'])\n",
    "plt.grid(ls='--')"
   ]
  },
  {
   "cell_type": "code",
   "execution_count": null,
   "id": "f009e4e1",
   "metadata": {},
   "outputs": [],
   "source": []
  },
  {
   "cell_type": "markdown",
   "id": "5a450eb8",
   "metadata": {},
   "source": [
    "## Groupby with aggregate function"
   ]
  },
  {
   "cell_type": "code",
   "execution_count": 84,
   "id": "dfaea500",
   "metadata": {},
   "outputs": [],
   "source": [
    "def q25(x):\n",
    "    return x.quantile(0.25)\n",
    "def q75(x):\n",
    "    return x.quantile(0.75)\n",
    "def p5(x):\n",
    "    return x.quantile(0.05)\n",
    "def p95(x):\n",
    "    return x.quantile(0.95)"
   ]
  },
  {
   "cell_type": "code",
   "execution_count": 92,
   "id": "5ee1806c",
   "metadata": {},
   "outputs": [],
   "source": [
    "data_month=data_c.drop('Date',axis=1).groupby(data_c.Date.dt.month).agg(\n",
    "    [\"mean\",\"median\",\"std\",\"max\",\"min\",\"count\",q25,q75,p5,p95]).rename_axis(\n",
    "    ['month']).copy()\n",
    "#here using the clean data (data_c)"
   ]
  },
  {
   "cell_type": "code",
   "execution_count": 93,
   "id": "7cb423d9",
   "metadata": {},
   "outputs": [
    {
     "data": {
      "text/html": [
       "<div>\n",
       "<style scoped>\n",
       "    .dataframe tbody tr th:only-of-type {\n",
       "        vertical-align: middle;\n",
       "    }\n",
       "\n",
       "    .dataframe tbody tr th {\n",
       "        vertical-align: top;\n",
       "    }\n",
       "\n",
       "    .dataframe thead th {\n",
       "        text-align: right;\n",
       "    }\n",
       "</style>\n",
       "<table border=\"1\" class=\"dataframe\">\n",
       "  <thead>\n",
       "    <tr style=\"text-align: right;\">\n",
       "      <th></th>\n",
       "      <th>mean</th>\n",
       "      <th>median</th>\n",
       "      <th>std</th>\n",
       "      <th>max</th>\n",
       "      <th>min</th>\n",
       "      <th>count</th>\n",
       "      <th>q25</th>\n",
       "      <th>q75</th>\n",
       "      <th>p5</th>\n",
       "      <th>p95</th>\n",
       "    </tr>\n",
       "    <tr>\n",
       "      <th>month</th>\n",
       "      <th></th>\n",
       "      <th></th>\n",
       "      <th></th>\n",
       "      <th></th>\n",
       "      <th></th>\n",
       "      <th></th>\n",
       "      <th></th>\n",
       "      <th></th>\n",
       "      <th></th>\n",
       "      <th></th>\n",
       "    </tr>\n",
       "  </thead>\n",
       "  <tbody>\n",
       "    <tr>\n",
       "      <th>1</th>\n",
       "      <td>1.013083</td>\n",
       "      <td>0.2</td>\n",
       "      <td>1.498957</td>\n",
       "      <td>6.0</td>\n",
       "      <td>0.0</td>\n",
       "      <td>1651</td>\n",
       "      <td>0.0</td>\n",
       "      <td>1.600</td>\n",
       "      <td>0.0</td>\n",
       "      <td>4.50</td>\n",
       "    </tr>\n",
       "    <tr>\n",
       "      <th>2</th>\n",
       "      <td>0.524190</td>\n",
       "      <td>0.0</td>\n",
       "      <td>0.906445</td>\n",
       "      <td>3.7</td>\n",
       "      <td>0.0</td>\n",
       "      <td>1451</td>\n",
       "      <td>0.0</td>\n",
       "      <td>0.700</td>\n",
       "      <td>0.0</td>\n",
       "      <td>2.70</td>\n",
       "    </tr>\n",
       "    <tr>\n",
       "      <th>3</th>\n",
       "      <td>0.529057</td>\n",
       "      <td>0.0</td>\n",
       "      <td>0.916645</td>\n",
       "      <td>3.7</td>\n",
       "      <td>0.0</td>\n",
       "      <td>1590</td>\n",
       "      <td>0.0</td>\n",
       "      <td>0.700</td>\n",
       "      <td>0.0</td>\n",
       "      <td>2.90</td>\n",
       "    </tr>\n",
       "    <tr>\n",
       "      <th>4</th>\n",
       "      <td>0.360120</td>\n",
       "      <td>0.0</td>\n",
       "      <td>0.688207</td>\n",
       "      <td>2.8</td>\n",
       "      <td>0.0</td>\n",
       "      <td>1497</td>\n",
       "      <td>0.0</td>\n",
       "      <td>0.400</td>\n",
       "      <td>0.0</td>\n",
       "      <td>2.20</td>\n",
       "    </tr>\n",
       "    <tr>\n",
       "      <th>5</th>\n",
       "      <td>0.295825</td>\n",
       "      <td>0.0</td>\n",
       "      <td>0.619694</td>\n",
       "      <td>2.7</td>\n",
       "      <td>0.0</td>\n",
       "      <td>1509</td>\n",
       "      <td>0.0</td>\n",
       "      <td>0.200</td>\n",
       "      <td>0.0</td>\n",
       "      <td>1.90</td>\n",
       "    </tr>\n",
       "    <tr>\n",
       "      <th>6</th>\n",
       "      <td>0.433266</td>\n",
       "      <td>0.0</td>\n",
       "      <td>0.850339</td>\n",
       "      <td>3.7</td>\n",
       "      <td>0.0</td>\n",
       "      <td>1476</td>\n",
       "      <td>0.0</td>\n",
       "      <td>0.400</td>\n",
       "      <td>0.0</td>\n",
       "      <td>2.60</td>\n",
       "    </tr>\n",
       "    <tr>\n",
       "      <th>7</th>\n",
       "      <td>0.648678</td>\n",
       "      <td>0.0</td>\n",
       "      <td>1.203467</td>\n",
       "      <td>5.2</td>\n",
       "      <td>0.0</td>\n",
       "      <td>1551</td>\n",
       "      <td>0.0</td>\n",
       "      <td>0.700</td>\n",
       "      <td>0.0</td>\n",
       "      <td>3.65</td>\n",
       "    </tr>\n",
       "    <tr>\n",
       "      <th>8</th>\n",
       "      <td>0.751323</td>\n",
       "      <td>0.0</td>\n",
       "      <td>1.356102</td>\n",
       "      <td>6.0</td>\n",
       "      <td>0.0</td>\n",
       "      <td>1549</td>\n",
       "      <td>0.0</td>\n",
       "      <td>0.900</td>\n",
       "      <td>0.0</td>\n",
       "      <td>4.10</td>\n",
       "    </tr>\n",
       "    <tr>\n",
       "      <th>9</th>\n",
       "      <td>1.093811</td>\n",
       "      <td>0.0</td>\n",
       "      <td>1.854430</td>\n",
       "      <td>7.6</td>\n",
       "      <td>0.0</td>\n",
       "      <td>1535</td>\n",
       "      <td>0.0</td>\n",
       "      <td>1.400</td>\n",
       "      <td>0.0</td>\n",
       "      <td>5.50</td>\n",
       "    </tr>\n",
       "    <tr>\n",
       "      <th>10</th>\n",
       "      <td>1.265435</td>\n",
       "      <td>0.1</td>\n",
       "      <td>2.027260</td>\n",
       "      <td>8.2</td>\n",
       "      <td>0.0</td>\n",
       "      <td>1597</td>\n",
       "      <td>0.0</td>\n",
       "      <td>1.800</td>\n",
       "      <td>0.0</td>\n",
       "      <td>6.22</td>\n",
       "    </tr>\n",
       "    <tr>\n",
       "      <th>11</th>\n",
       "      <td>1.936839</td>\n",
       "      <td>0.6</td>\n",
       "      <td>2.632040</td>\n",
       "      <td>10.2</td>\n",
       "      <td>0.0</td>\n",
       "      <td>1626</td>\n",
       "      <td>0.0</td>\n",
       "      <td>3.175</td>\n",
       "      <td>0.0</td>\n",
       "      <td>8.00</td>\n",
       "    </tr>\n",
       "    <tr>\n",
       "      <th>12</th>\n",
       "      <td>1.450090</td>\n",
       "      <td>0.3</td>\n",
       "      <td>2.041584</td>\n",
       "      <td>7.9</td>\n",
       "      <td>0.0</td>\n",
       "      <td>1665</td>\n",
       "      <td>0.0</td>\n",
       "      <td>2.200</td>\n",
       "      <td>0.0</td>\n",
       "      <td>6.20</td>\n",
       "    </tr>\n",
       "  </tbody>\n",
       "</table>\n",
       "</div>"
      ],
      "text/plain": [
       "           mean  median       std   max  min  count  q25    q75   p5   p95\n",
       "month                                                                     \n",
       "1      1.013083     0.2  1.498957   6.0  0.0   1651  0.0  1.600  0.0  4.50\n",
       "2      0.524190     0.0  0.906445   3.7  0.0   1451  0.0  0.700  0.0  2.70\n",
       "3      0.529057     0.0  0.916645   3.7  0.0   1590  0.0  0.700  0.0  2.90\n",
       "4      0.360120     0.0  0.688207   2.8  0.0   1497  0.0  0.400  0.0  2.20\n",
       "5      0.295825     0.0  0.619694   2.7  0.0   1509  0.0  0.200  0.0  1.90\n",
       "6      0.433266     0.0  0.850339   3.7  0.0   1476  0.0  0.400  0.0  2.60\n",
       "7      0.648678     0.0  1.203467   5.2  0.0   1551  0.0  0.700  0.0  3.65\n",
       "8      0.751323     0.0  1.356102   6.0  0.0   1549  0.0  0.900  0.0  4.10\n",
       "9      1.093811     0.0  1.854430   7.6  0.0   1535  0.0  1.400  0.0  5.50\n",
       "10     1.265435     0.1  2.027260   8.2  0.0   1597  0.0  1.800  0.0  6.22\n",
       "11     1.936839     0.6  2.632040  10.2  0.0   1626  0.0  3.175  0.0  8.00\n",
       "12     1.450090     0.3  2.041584   7.9  0.0   1665  0.0  2.200  0.0  6.20"
      ]
     },
     "execution_count": 93,
     "metadata": {},
     "output_type": "execute_result"
    }
   ],
   "source": [
    "data_month.precipitation"
   ]
  },
  {
   "cell_type": "code",
   "execution_count": 99,
   "id": "d4195c21",
   "metadata": {},
   "outputs": [],
   "source": [
    "#salinity plot with cleaned data\n",
    "plt.figure(figsize=(10,8),constrained_layout=True)\n",
    "plt.plot(data_month.index,data_month.Salinity['median'],'k',linewidth=2)\n",
    "plt.fill_between(data_month.index,data_month.Salinity['q25'],data_month.Salinity['q75'],color='b',alpha=0.2 )\n",
    "plt.fill_between(data_month.index,data_month.Salinity['p5'],data_month.Salinity['p95'],color='b',alpha=0.05 )\n",
    "for ii in data_month.index:\n",
    "    sc=plt.scatter(np.repeat(ii, len(data_c.Salinity[data_c.Date.dt.month==ii])),\n",
    "                   data_c.Salinity[data_c.Date.dt.month==ii],c=data_c.Salinity[data_c.Date.dt.month==ii],cmap='viridis')\n",
    "cb=plt.colorbar(sc,shrink=0.6,aspect=10)\n",
    "cb.ax.set_title('Salinity')\n",
    "plt.xticks(data_month.index)\n",
    "plt.xlabel('Months')\n",
    "plt.ylabel('Salinity')\n",
    "plt.grid(ls='--')"
   ]
  },
  {
   "cell_type": "code",
   "execution_count": 116,
   "id": "e699b319-be3e-4886-83a3-1b0d24584073",
   "metadata": {},
   "outputs": [],
   "source": [
    "#precipitation plot with cleaned data\n",
    "plt.figure(figsize=(10,8),constrained_layout=True)\n",
    "plt.plot(data_month.index,data_month.precipitation['median'],'k',linewidth=2)\n",
    "plt.fill_between(data_month.index,data_month.precipitation['q25'],data_month.precipitation['q75'],color='grey',alpha=0.2 )\n",
    "plt.fill_between(data_month.index,data_month.precipitation['p5'],data_month.precipitation['p95'],color='grey',alpha=0.1 )\n",
    "for ii in data_month.index:\n",
    "    sc=plt.scatter(np.repeat(ii, len(data_c.precipitation[data.Date.dt.month==ii])),\n",
    "                   data_c.precipitation[data_c.Date.dt.month==ii],c=data_c.precipitation[data_c.Date.dt.month==ii],cmap='Blues')\n",
    "cb=plt.colorbar(sc,shrink=0.6,aspect=10)\n",
    "cb.ax.set_title('(mm)')\n",
    "plt.xticks(data_month.index)\n",
    "plt.xlabel('Months')\n",
    "plt.ylabel('Precipitation(mm)')\n",
    "plt.grid(ls='--')"
   ]
  },
  {
   "cell_type": "markdown",
   "id": "df357dc8",
   "metadata": {},
   "source": [
    "## Calculate Anomalies"
   ]
  },
  {
   "cell_type": "code",
   "execution_count": 117,
   "id": "21541d2a",
   "metadata": {},
   "outputs": [],
   "source": [
    "#create the dataset to input anomalies data\n",
    "sal_anom=data_c[['Date','Salinity']].copy()\n",
    "prec_anom=data_c[['Date','precipitation']].copy()"
   ]
  },
  {
   "cell_type": "code",
   "execution_count": 118,
   "id": "37eb403e-a97f-4fd2-b87b-4ba85f046671",
   "metadata": {},
   "outputs": [
    {
     "data": {
      "text/html": [
       "<div>\n",
       "<style scoped>\n",
       "    .dataframe tbody tr th:only-of-type {\n",
       "        vertical-align: middle;\n",
       "    }\n",
       "\n",
       "    .dataframe tbody tr th {\n",
       "        vertical-align: top;\n",
       "    }\n",
       "\n",
       "    .dataframe thead th {\n",
       "        text-align: right;\n",
       "    }\n",
       "</style>\n",
       "<table border=\"1\" class=\"dataframe\">\n",
       "  <thead>\n",
       "    <tr style=\"text-align: right;\">\n",
       "      <th></th>\n",
       "      <th>Date</th>\n",
       "      <th>Salinity</th>\n",
       "    </tr>\n",
       "  </thead>\n",
       "  <tbody>\n",
       "    <tr>\n",
       "      <th>0</th>\n",
       "      <td>1962-01-01</td>\n",
       "      <td>NaN</td>\n",
       "    </tr>\n",
       "    <tr>\n",
       "      <th>1</th>\n",
       "      <td>1962-01-02</td>\n",
       "      <td>NaN</td>\n",
       "    </tr>\n",
       "    <tr>\n",
       "      <th>2</th>\n",
       "      <td>1962-01-03</td>\n",
       "      <td>NaN</td>\n",
       "    </tr>\n",
       "    <tr>\n",
       "      <th>3</th>\n",
       "      <td>1962-01-04</td>\n",
       "      <td>NaN</td>\n",
       "    </tr>\n",
       "    <tr>\n",
       "      <th>4</th>\n",
       "      <td>1962-01-05</td>\n",
       "      <td>NaN</td>\n",
       "    </tr>\n",
       "    <tr>\n",
       "      <th>...</th>\n",
       "      <td>...</td>\n",
       "      <td>...</td>\n",
       "    </tr>\n",
       "    <tr>\n",
       "      <th>21270</th>\n",
       "      <td>2020-03-27</td>\n",
       "      <td>31.677</td>\n",
       "    </tr>\n",
       "    <tr>\n",
       "      <th>21271</th>\n",
       "      <td>2020-03-28</td>\n",
       "      <td>NaN</td>\n",
       "    </tr>\n",
       "    <tr>\n",
       "      <th>21272</th>\n",
       "      <td>2020-03-29</td>\n",
       "      <td>NaN</td>\n",
       "    </tr>\n",
       "    <tr>\n",
       "      <th>21273</th>\n",
       "      <td>2020-03-30</td>\n",
       "      <td>31.568</td>\n",
       "    </tr>\n",
       "    <tr>\n",
       "      <th>21274</th>\n",
       "      <td>2020-03-31</td>\n",
       "      <td>32.015</td>\n",
       "    </tr>\n",
       "  </tbody>\n",
       "</table>\n",
       "<p>21275 rows × 2 columns</p>\n",
       "</div>"
      ],
      "text/plain": [
       "            Date  Salinity\n",
       "0     1962-01-01       NaN\n",
       "1     1962-01-02       NaN\n",
       "2     1962-01-03       NaN\n",
       "3     1962-01-04       NaN\n",
       "4     1962-01-05       NaN\n",
       "...          ...       ...\n",
       "21270 2020-03-27    31.677\n",
       "21271 2020-03-28       NaN\n",
       "21272 2020-03-29       NaN\n",
       "21273 2020-03-30    31.568\n",
       "21274 2020-03-31    32.015\n",
       "\n",
       "[21275 rows x 2 columns]"
      ]
     },
     "execution_count": 118,
     "metadata": {},
     "output_type": "execute_result"
    }
   ],
   "source": [
    "sal_anom"
   ]
  },
  {
   "cell_type": "code",
   "execution_count": 119,
   "id": "5ad4d6ee",
   "metadata": {},
   "outputs": [],
   "source": [
    "#calculation of anomalies\n",
    "months=np.arange(1,13,1)\n",
    "\n",
    "for month in months: \n",
    "\n",
    "    sal_anom.loc[sal_anom['Date'].dt.month==month,'anomaly']=(sal_anom['Salinity'])-data_month.Salinity.loc[month,'mean']\n",
    "    prec_anom.loc[prec_anom['Date'].dt.month==month,'anomaly']=(prec_anom['precipitation'])-data_month.precipitation.loc[month,'mean']"
   ]
  },
  {
   "cell_type": "code",
   "execution_count": 120,
   "id": "c070d74d-1ef9-4fa5-ab13-48ea4fbe14cc",
   "metadata": {},
   "outputs": [],
   "source": [
    "#plot salinity anomaly and the salinity data\n",
    "plt.figure(figsize=(12,6),constrained_layout=True)\n",
    "plt.plot(sal_anom.Date,sal_anom.Salinity,'r')\n",
    "plt.plot(sal_anom.Date,sal_anom.anomaly,'k')\n",
    "plt.xlabel(None)\n",
    "plt.ylabel('Salinity')\n",
    "plt.axhline(0, color='k')\n",
    "plt.grid(ls='--')\n",
    "## here I'm adding a column with colors\n",
    "#color_ts = np.where(temp_anom.anomaly<0, 'red', 'blue')"
   ]
  },
  {
   "cell_type": "code",
   "execution_count": 122,
   "id": "b3e88ae5-b791-4100-a5b1-2fc0056e85a5",
   "metadata": {},
   "outputs": [],
   "source": [
    "#plot precipiation anomaly and the salinity data\n",
    "plt.figure(figsize=(12,6),constrained_layout=True)\n",
    "plt.plot(prec_anom.Date,prec_anom.precipitation,'r')\n",
    "plt.plot(prec_anom.Date,prec_anom.anomaly,'k')\n",
    "plt.xlabel(None)\n",
    "plt.ylabel('Precipitation (mm)')\n",
    "plt.axhline(0, color='k')\n",
    "plt.grid(ls='--')\n",
    "## here I'm adding a column with colors\n",
    "#color_ts = np.where(temp_anom.anomaly<0, 'red', 'blue')"
   ]
  },
  {
   "cell_type": "markdown",
   "id": "bc55c31c",
   "metadata": {},
   "source": [
    "## The seasonal signal"
   ]
  },
  {
   "cell_type": "code",
   "execution_count": 123,
   "id": "653a4827-e2b1-45e5-a1ca-a5982d3557a7",
   "metadata": {},
   "outputs": [],
   "source": [
    "sal_month=sal_anom.set_index('Date').resample('M').mean()\n",
    "sal_month.reset_index(inplace=True,drop=False)"
   ]
  },
  {
   "cell_type": "code",
   "execution_count": 124,
   "id": "7359b5d6",
   "metadata": {},
   "outputs": [],
   "source": [
    "plt.figure(figsize=(12,6),constrained_layout=True)\n",
    "plt.plot(sal_month.Date,sal_month.Salinity-sal_month.anomaly,'o-')\n",
    "plt.ylabel('Salinity')\n",
    "plt.xlim(data_prec.Date[0],data_prec.Date.iloc[-1])\n",
    "plt.grid(ls='--')"
   ]
  },
  {
   "cell_type": "code",
   "execution_count": 125,
   "id": "4ace78d7",
   "metadata": {},
   "outputs": [],
   "source": [
    "plt.figure(figsize=(12,6),constrained_layout=True)\n",
    "plt.fill_between(x=sal_anom.Date, y1=sal_anom.anomaly, y2=0, where=sal_anom.anomaly >=0, interpolate=True,color='red')\n",
    "plt.fill_between(x=sal_anom.Date, y1=sal_anom.anomaly, y2=0, where=sal_anom.anomaly <0, interpolate=True,color='blue')\n",
    "plt.axhline(0, color='k',lw=0.5)\n",
    "plt.ylabel('Salinity')\n",
    "plt.xlim(data.Date[0],data.Date.iloc[-1])\n",
    "plt.grid(ls='--')"
   ]
  },
  {
   "cell_type": "markdown",
   "id": "39cf3018",
   "metadata": {},
   "source": [
    "## Resample"
   ]
  },
  {
   "cell_type": "code",
   "execution_count": 128,
   "id": "6047e99f",
   "metadata": {},
   "outputs": [],
   "source": [
    "sal_year=sal_anom.set_index('Date').resample('Y').mean()\n",
    "prec_year=prec_anom.set_index('Date').resample('Y').mean()"
   ]
  },
  {
   "cell_type": "code",
   "execution_count": 129,
   "id": "cc08836c-c55e-454a-af1a-82ba766b3270",
   "metadata": {},
   "outputs": [
    {
     "data": {
      "text/html": [
       "<div>\n",
       "<style scoped>\n",
       "    .dataframe tbody tr th:only-of-type {\n",
       "        vertical-align: middle;\n",
       "    }\n",
       "\n",
       "    .dataframe tbody tr th {\n",
       "        vertical-align: top;\n",
       "    }\n",
       "\n",
       "    .dataframe thead th {\n",
       "        text-align: right;\n",
       "    }\n",
       "</style>\n",
       "<table border=\"1\" class=\"dataframe\">\n",
       "  <thead>\n",
       "    <tr style=\"text-align: right;\">\n",
       "      <th></th>\n",
       "      <th>precipitation</th>\n",
       "      <th>anomaly</th>\n",
       "    </tr>\n",
       "    <tr>\n",
       "      <th>Date</th>\n",
       "      <th></th>\n",
       "      <th></th>\n",
       "    </tr>\n",
       "  </thead>\n",
       "  <tbody>\n",
       "    <tr>\n",
       "      <th>1962-12-31</th>\n",
       "      <td>0.840491</td>\n",
       "      <td>-0.034296</td>\n",
       "    </tr>\n",
       "    <tr>\n",
       "      <th>1963-12-31</th>\n",
       "      <td>0.764087</td>\n",
       "      <td>-0.107217</td>\n",
       "    </tr>\n",
       "    <tr>\n",
       "      <th>1964-12-31</th>\n",
       "      <td>0.864412</td>\n",
       "      <td>-0.006038</td>\n",
       "    </tr>\n",
       "    <tr>\n",
       "      <th>1965-12-31</th>\n",
       "      <td>0.898706</td>\n",
       "      <td>0.013884</td>\n",
       "    </tr>\n",
       "    <tr>\n",
       "      <th>1966-12-31</th>\n",
       "      <td>0.996091</td>\n",
       "      <td>0.119195</td>\n",
       "    </tr>\n",
       "    <tr>\n",
       "      <th>1967-12-31</th>\n",
       "      <td>1.094357</td>\n",
       "      <td>0.208853</td>\n",
       "    </tr>\n",
       "    <tr>\n",
       "      <th>1968-12-31</th>\n",
       "      <td>0.805231</td>\n",
       "      <td>-0.065137</td>\n",
       "    </tr>\n",
       "    <tr>\n",
       "      <th>1969-12-31</th>\n",
       "      <td>0.779331</td>\n",
       "      <td>-0.088715</td>\n",
       "    </tr>\n",
       "    <tr>\n",
       "      <th>1970-12-31</th>\n",
       "      <td>0.961270</td>\n",
       "      <td>0.087456</td>\n",
       "    </tr>\n",
       "    <tr>\n",
       "      <th>1971-12-31</th>\n",
       "      <td>0.670088</td>\n",
       "      <td>-0.203374</td>\n",
       "    </tr>\n",
       "    <tr>\n",
       "      <th>1972-12-31</th>\n",
       "      <td>0.725926</td>\n",
       "      <td>-0.156931</td>\n",
       "    </tr>\n",
       "    <tr>\n",
       "      <th>1973-12-31</th>\n",
       "      <td>0.850473</td>\n",
       "      <td>-0.014360</td>\n",
       "    </tr>\n",
       "    <tr>\n",
       "      <th>1974-12-31</th>\n",
       "      <td>1.075079</td>\n",
       "      <td>0.202334</td>\n",
       "    </tr>\n",
       "    <tr>\n",
       "      <th>1975-12-31</th>\n",
       "      <td>0.727439</td>\n",
       "      <td>-0.149003</td>\n",
       "    </tr>\n",
       "    <tr>\n",
       "      <th>1976-12-31</th>\n",
       "      <td>0.797329</td>\n",
       "      <td>-0.057162</td>\n",
       "    </tr>\n",
       "    <tr>\n",
       "      <th>1977-12-31</th>\n",
       "      <td>0.861890</td>\n",
       "      <td>-0.004578</td>\n",
       "    </tr>\n",
       "    <tr>\n",
       "      <th>1978-12-31</th>\n",
       "      <td>0.919565</td>\n",
       "      <td>0.048116</td>\n",
       "    </tr>\n",
       "    <tr>\n",
       "      <th>1979-12-31</th>\n",
       "      <td>0.908599</td>\n",
       "      <td>0.035597</td>\n",
       "    </tr>\n",
       "    <tr>\n",
       "      <th>1980-12-31</th>\n",
       "      <td>0.850476</td>\n",
       "      <td>-0.005981</td>\n",
       "    </tr>\n",
       "    <tr>\n",
       "      <th>1981-12-31</th>\n",
       "      <td>1.009480</td>\n",
       "      <td>0.131182</td>\n",
       "    </tr>\n",
       "    <tr>\n",
       "      <th>1982-12-31</th>\n",
       "      <td>0.813110</td>\n",
       "      <td>-0.068259</td>\n",
       "    </tr>\n",
       "    <tr>\n",
       "      <th>1983-12-31</th>\n",
       "      <td>0.864669</td>\n",
       "      <td>-0.018895</td>\n",
       "    </tr>\n",
       "    <tr>\n",
       "      <th>1984-12-31</th>\n",
       "      <td>0.777358</td>\n",
       "      <td>-0.099027</td>\n",
       "    </tr>\n",
       "    <tr>\n",
       "      <th>1985-12-31</th>\n",
       "      <td>0.922671</td>\n",
       "      <td>0.046966</td>\n",
       "    </tr>\n",
       "    <tr>\n",
       "      <th>1986-12-31</th>\n",
       "      <td>0.914815</td>\n",
       "      <td>0.051272</td>\n",
       "    </tr>\n",
       "    <tr>\n",
       "      <th>1987-12-31</th>\n",
       "      <td>0.894099</td>\n",
       "      <td>0.011096</td>\n",
       "    </tr>\n",
       "    <tr>\n",
       "      <th>1988-12-31</th>\n",
       "      <td>1.032013</td>\n",
       "      <td>0.145737</td>\n",
       "    </tr>\n",
       "    <tr>\n",
       "      <th>1989-12-31</th>\n",
       "      <td>0.684877</td>\n",
       "      <td>-0.193773</td>\n",
       "    </tr>\n",
       "    <tr>\n",
       "      <th>1990-12-31</th>\n",
       "      <td>0.936624</td>\n",
       "      <td>0.067995</td>\n",
       "    </tr>\n",
       "    <tr>\n",
       "      <th>1991-12-31</th>\n",
       "      <td>0.697538</td>\n",
       "      <td>-0.173012</td>\n",
       "    </tr>\n",
       "    <tr>\n",
       "      <th>1992-12-31</th>\n",
       "      <td>0.849379</td>\n",
       "      <td>-0.013141</td>\n",
       "    </tr>\n",
       "    <tr>\n",
       "      <th>1993-12-31</th>\n",
       "      <td>0.933436</td>\n",
       "      <td>0.073048</td>\n",
       "    </tr>\n",
       "    <tr>\n",
       "      <th>1994-12-31</th>\n",
       "      <td>0.995223</td>\n",
       "      <td>0.118990</td>\n",
       "    </tr>\n",
       "    <tr>\n",
       "      <th>1995-12-31</th>\n",
       "      <td>0.821184</td>\n",
       "      <td>-0.065418</td>\n",
       "    </tr>\n",
       "    <tr>\n",
       "      <th>1996-12-31</th>\n",
       "      <td>0.647337</td>\n",
       "      <td>-0.216555</td>\n",
       "    </tr>\n",
       "    <tr>\n",
       "      <th>1997-12-31</th>\n",
       "      <td>0.638298</td>\n",
       "      <td>-0.241319</td>\n",
       "    </tr>\n",
       "    <tr>\n",
       "      <th>1998-12-31</th>\n",
       "      <td>1.115541</td>\n",
       "      <td>0.224381</td>\n",
       "    </tr>\n",
       "    <tr>\n",
       "      <th>1999-12-31</th>\n",
       "      <td>1.048598</td>\n",
       "      <td>0.178932</td>\n",
       "    </tr>\n",
       "    <tr>\n",
       "      <th>2000-12-31</th>\n",
       "      <td>0.995509</td>\n",
       "      <td>0.115473</td>\n",
       "    </tr>\n",
       "    <tr>\n",
       "      <th>2001-12-31</th>\n",
       "      <td>0.939610</td>\n",
       "      <td>0.065220</td>\n",
       "    </tr>\n",
       "    <tr>\n",
       "      <th>2002-12-31</th>\n",
       "      <td>0.838730</td>\n",
       "      <td>-0.033414</td>\n",
       "    </tr>\n",
       "    <tr>\n",
       "      <th>2003-12-31</th>\n",
       "      <td>0.661631</td>\n",
       "      <td>-0.217095</td>\n",
       "    </tr>\n",
       "    <tr>\n",
       "      <th>2004-12-31</th>\n",
       "      <td>0.921905</td>\n",
       "      <td>0.047297</td>\n",
       "    </tr>\n",
       "    <tr>\n",
       "      <th>2005-12-31</th>\n",
       "      <td>0.922590</td>\n",
       "      <td>0.047985</td>\n",
       "    </tr>\n",
       "    <tr>\n",
       "      <th>2006-12-31</th>\n",
       "      <td>0.930769</td>\n",
       "      <td>0.047475</td>\n",
       "    </tr>\n",
       "    <tr>\n",
       "      <th>2007-12-31</th>\n",
       "      <td>0.961688</td>\n",
       "      <td>0.068061</td>\n",
       "    </tr>\n",
       "    <tr>\n",
       "      <th>2008-12-31</th>\n",
       "      <td>0.992405</td>\n",
       "      <td>0.111687</td>\n",
       "    </tr>\n",
       "    <tr>\n",
       "      <th>2009-12-31</th>\n",
       "      <td>0.790881</td>\n",
       "      <td>-0.081601</td>\n",
       "    </tr>\n",
       "    <tr>\n",
       "      <th>2010-12-31</th>\n",
       "      <td>0.821429</td>\n",
       "      <td>-0.051614</td>\n",
       "    </tr>\n",
       "    <tr>\n",
       "      <th>2011-12-31</th>\n",
       "      <td>0.807034</td>\n",
       "      <td>-0.057898</td>\n",
       "    </tr>\n",
       "    <tr>\n",
       "      <th>2012-12-31</th>\n",
       "      <td>0.976972</td>\n",
       "      <td>0.106368</td>\n",
       "    </tr>\n",
       "    <tr>\n",
       "      <th>2013-12-31</th>\n",
       "      <td>0.788785</td>\n",
       "      <td>-0.075403</td>\n",
       "    </tr>\n",
       "    <tr>\n",
       "      <th>2014-12-31</th>\n",
       "      <td>0.785849</td>\n",
       "      <td>-0.090896</td>\n",
       "    </tr>\n",
       "    <tr>\n",
       "      <th>2015-12-31</th>\n",
       "      <td>1.007911</td>\n",
       "      <td>0.133308</td>\n",
       "    </tr>\n",
       "    <tr>\n",
       "      <th>2016-12-31</th>\n",
       "      <td>0.832919</td>\n",
       "      <td>-0.053847</td>\n",
       "    </tr>\n",
       "    <tr>\n",
       "      <th>2017-12-31</th>\n",
       "      <td>1.092857</td>\n",
       "      <td>0.227651</td>\n",
       "    </tr>\n",
       "    <tr>\n",
       "      <th>2018-12-31</th>\n",
       "      <td>0.693656</td>\n",
       "      <td>-0.183112</td>\n",
       "    </tr>\n",
       "    <tr>\n",
       "      <th>2019-12-31</th>\n",
       "      <td>1.011746</td>\n",
       "      <td>0.144351</td>\n",
       "    </tr>\n",
       "    <tr>\n",
       "      <th>2020-12-31</th>\n",
       "      <td>0.964789</td>\n",
       "      <td>0.266534</td>\n",
       "    </tr>\n",
       "  </tbody>\n",
       "</table>\n",
       "</div>"
      ],
      "text/plain": [
       "            precipitation   anomaly\n",
       "Date                               \n",
       "1962-12-31       0.840491 -0.034296\n",
       "1963-12-31       0.764087 -0.107217\n",
       "1964-12-31       0.864412 -0.006038\n",
       "1965-12-31       0.898706  0.013884\n",
       "1966-12-31       0.996091  0.119195\n",
       "1967-12-31       1.094357  0.208853\n",
       "1968-12-31       0.805231 -0.065137\n",
       "1969-12-31       0.779331 -0.088715\n",
       "1970-12-31       0.961270  0.087456\n",
       "1971-12-31       0.670088 -0.203374\n",
       "1972-12-31       0.725926 -0.156931\n",
       "1973-12-31       0.850473 -0.014360\n",
       "1974-12-31       1.075079  0.202334\n",
       "1975-12-31       0.727439 -0.149003\n",
       "1976-12-31       0.797329 -0.057162\n",
       "1977-12-31       0.861890 -0.004578\n",
       "1978-12-31       0.919565  0.048116\n",
       "1979-12-31       0.908599  0.035597\n",
       "1980-12-31       0.850476 -0.005981\n",
       "1981-12-31       1.009480  0.131182\n",
       "1982-12-31       0.813110 -0.068259\n",
       "1983-12-31       0.864669 -0.018895\n",
       "1984-12-31       0.777358 -0.099027\n",
       "1985-12-31       0.922671  0.046966\n",
       "1986-12-31       0.914815  0.051272\n",
       "1987-12-31       0.894099  0.011096\n",
       "1988-12-31       1.032013  0.145737\n",
       "1989-12-31       0.684877 -0.193773\n",
       "1990-12-31       0.936624  0.067995\n",
       "1991-12-31       0.697538 -0.173012\n",
       "1992-12-31       0.849379 -0.013141\n",
       "1993-12-31       0.933436  0.073048\n",
       "1994-12-31       0.995223  0.118990\n",
       "1995-12-31       0.821184 -0.065418\n",
       "1996-12-31       0.647337 -0.216555\n",
       "1997-12-31       0.638298 -0.241319\n",
       "1998-12-31       1.115541  0.224381\n",
       "1999-12-31       1.048598  0.178932\n",
       "2000-12-31       0.995509  0.115473\n",
       "2001-12-31       0.939610  0.065220\n",
       "2002-12-31       0.838730 -0.033414\n",
       "2003-12-31       0.661631 -0.217095\n",
       "2004-12-31       0.921905  0.047297\n",
       "2005-12-31       0.922590  0.047985\n",
       "2006-12-31       0.930769  0.047475\n",
       "2007-12-31       0.961688  0.068061\n",
       "2008-12-31       0.992405  0.111687\n",
       "2009-12-31       0.790881 -0.081601\n",
       "2010-12-31       0.821429 -0.051614\n",
       "2011-12-31       0.807034 -0.057898\n",
       "2012-12-31       0.976972  0.106368\n",
       "2013-12-31       0.788785 -0.075403\n",
       "2014-12-31       0.785849 -0.090896\n",
       "2015-12-31       1.007911  0.133308\n",
       "2016-12-31       0.832919 -0.053847\n",
       "2017-12-31       1.092857  0.227651\n",
       "2018-12-31       0.693656 -0.183112\n",
       "2019-12-31       1.011746  0.144351\n",
       "2020-12-31       0.964789  0.266534"
      ]
     },
     "execution_count": 129,
     "metadata": {},
     "output_type": "execute_result"
    }
   ],
   "source": [
    "prec_year"
   ]
  },
  {
   "cell_type": "code",
   "execution_count": 130,
   "id": "239eb4f2",
   "metadata": {},
   "outputs": [],
   "source": [
    "sal_year.reset_index(inplace=True,drop=False)\n",
    "prec_year.reset_index(inplace=True,drop=False)"
   ]
  },
  {
   "cell_type": "code",
   "execution_count": 131,
   "id": "792e3eed",
   "metadata": {},
   "outputs": [
    {
     "data": {
      "text/plain": [
       "Text(0.5, 0, 'Year')"
      ]
     },
     "execution_count": 131,
     "metadata": {},
     "output_type": "execute_result"
    }
   ],
   "source": [
    "#yearly salinity anomalies\n",
    "plt.figure(figsize=(10,6),constrained_layout=True)\n",
    "plt.bar(sal_year.Date[sal_year.anomaly>=0],sal_year.anomaly[sal_year.anomaly>=0],width=300, color='r')\n",
    "plt.bar(sal_year.Date[sal_year.anomaly<0],sal_year.anomaly[sal_year.anomaly<0],width=300, color='b')\n",
    "plt.axhline(0,color='k',lw=0.5)\n",
    "#plt.xlim(data.Date[0],data.Date.iloc[-1])\n",
    "plt.grid(ls='dotted')\n",
    "plt.ylabel('Salnity anomalies')\n",
    "plt.xlabel('Year')"
   ]
  },
  {
   "cell_type": "code",
   "execution_count": 133,
   "id": "03ac0000-9c6a-473b-89fd-b2c44bbd9c15",
   "metadata": {},
   "outputs": [
    {
     "data": {
      "text/plain": [
       "Text(0.5, 0, 'Year')"
      ]
     },
     "execution_count": 133,
     "metadata": {},
     "output_type": "execute_result"
    }
   ],
   "source": [
    "#yearly prec anomalies\n",
    "plt.figure(figsize=(10,6),constrained_layout=True)\n",
    "plt.bar(sal_year.Date[prec_year.anomaly>=0],prec_year.anomaly[prec_year.anomaly>=0],width=300, color='r')\n",
    "plt.bar(sal_year.Date[prec_year.anomaly<0],prec_year.anomaly[prec_year.anomaly<0],width=300, color='b')\n",
    "plt.axhline(0,color='k',lw=0.5)\n",
    "#plt.xlim(data.Date[0],data.Date.iloc[-1])\n",
    "plt.grid(ls='dotted')\n",
    "plt.ylabel(' Precipitation anomalies')\n",
    "plt.xlabel('Year')"
   ]
  },
  {
   "cell_type": "code",
   "execution_count": 49,
   "id": "aa11cd9d",
   "metadata": {},
   "outputs": [],
   "source": [
    "#fill between bars\n",
    "plt.figure(figsize=(12,6),constrained_layout=True)\n",
    "plt.fill_between(x=temp_year.Date, y1=temp_year.anomaly, y2=0, where=temp_year.anomaly >=0, interpolate=True,color='red')\n",
    "plt.fill_between(x=temp_year.Date, y1=temp_year.anomaly, y2=0, where=temp_year.anomaly <0, interpolate=True,color='blue')\n",
    "plt.axhline(0, color='k',lw=0.5)\n",
    "plt.ylabel('Temperature anomalies (°)')\n",
    "plt.grid(ls='--')"
   ]
  },
  {
   "cell_type": "code",
   "execution_count": 135,
   "id": "1d156699",
   "metadata": {},
   "outputs": [
    {
     "data": {
      "text/html": [
       "<div>\n",
       "<style scoped>\n",
       "    .dataframe tbody tr th:only-of-type {\n",
       "        vertical-align: middle;\n",
       "    }\n",
       "\n",
       "    .dataframe tbody tr th {\n",
       "        vertical-align: top;\n",
       "    }\n",
       "\n",
       "    .dataframe thead th {\n",
       "        text-align: right;\n",
       "    }\n",
       "</style>\n",
       "<table border=\"1\" class=\"dataframe\">\n",
       "  <thead>\n",
       "    <tr style=\"text-align: right;\">\n",
       "      <th></th>\n",
       "      <th>Date</th>\n",
       "      <th>Salinity</th>\n",
       "      <th>anomaly</th>\n",
       "    </tr>\n",
       "  </thead>\n",
       "  <tbody>\n",
       "    <tr>\n",
       "      <th>0</th>\n",
       "      <td>1962-01-31</td>\n",
       "      <td>32.732750</td>\n",
       "      <td>-0.032404</td>\n",
       "    </tr>\n",
       "    <tr>\n",
       "      <th>1</th>\n",
       "      <td>1962-02-28</td>\n",
       "      <td>30.983000</td>\n",
       "      <td>-1.604593</td>\n",
       "    </tr>\n",
       "    <tr>\n",
       "      <th>2</th>\n",
       "      <td>1962-03-31</td>\n",
       "      <td>30.666308</td>\n",
       "      <td>-1.723868</td>\n",
       "    </tr>\n",
       "    <tr>\n",
       "      <th>3</th>\n",
       "      <td>1962-04-30</td>\n",
       "      <td>30.938444</td>\n",
       "      <td>-0.776758</td>\n",
       "    </tr>\n",
       "    <tr>\n",
       "      <th>4</th>\n",
       "      <td>1962-05-31</td>\n",
       "      <td>30.416706</td>\n",
       "      <td>-1.300438</td>\n",
       "    </tr>\n",
       "    <tr>\n",
       "      <th>...</th>\n",
       "      <td>...</td>\n",
       "      <td>...</td>\n",
       "      <td>...</td>\n",
       "    </tr>\n",
       "    <tr>\n",
       "      <th>694</th>\n",
       "      <td>2019-11-30</td>\n",
       "      <td>33.264625</td>\n",
       "      <td>0.480932</td>\n",
       "    </tr>\n",
       "    <tr>\n",
       "      <th>695</th>\n",
       "      <td>2019-12-31</td>\n",
       "      <td>33.451588</td>\n",
       "      <td>0.576039</td>\n",
       "    </tr>\n",
       "    <tr>\n",
       "      <th>696</th>\n",
       "      <td>2020-01-31</td>\n",
       "      <td>33.542000</td>\n",
       "      <td>0.776846</td>\n",
       "    </tr>\n",
       "    <tr>\n",
       "      <th>697</th>\n",
       "      <td>2020-02-29</td>\n",
       "      <td>32.415667</td>\n",
       "      <td>-0.171926</td>\n",
       "    </tr>\n",
       "    <tr>\n",
       "      <th>698</th>\n",
       "      <td>2020-03-31</td>\n",
       "      <td>32.636591</td>\n",
       "      <td>0.246415</td>\n",
       "    </tr>\n",
       "  </tbody>\n",
       "</table>\n",
       "<p>699 rows × 3 columns</p>\n",
       "</div>"
      ],
      "text/plain": [
       "          Date   Salinity   anomaly\n",
       "0   1962-01-31  32.732750 -0.032404\n",
       "1   1962-02-28  30.983000 -1.604593\n",
       "2   1962-03-31  30.666308 -1.723868\n",
       "3   1962-04-30  30.938444 -0.776758\n",
       "4   1962-05-31  30.416706 -1.300438\n",
       "..         ...        ...       ...\n",
       "694 2019-11-30  33.264625  0.480932\n",
       "695 2019-12-31  33.451588  0.576039\n",
       "696 2020-01-31  33.542000  0.776846\n",
       "697 2020-02-29  32.415667 -0.171926\n",
       "698 2020-03-31  32.636591  0.246415\n",
       "\n",
       "[699 rows x 3 columns]"
      ]
     },
     "execution_count": 135,
     "metadata": {},
     "output_type": "execute_result"
    }
   ],
   "source": [
    "sal_month=sal_anom.set_index('Date').resample('M').mean()\n",
    "sal_month.reset_index(inplace=True,drop=False)\n",
    "sal_month"
   ]
  },
  {
   "cell_type": "code",
   "execution_count": 149,
   "id": "9c73c53a-0d71-4403-a936-1868b7c24e2b",
   "metadata": {},
   "outputs": [
    {
     "data": {
      "text/html": [
       "<div>\n",
       "<style scoped>\n",
       "    .dataframe tbody tr th:only-of-type {\n",
       "        vertical-align: middle;\n",
       "    }\n",
       "\n",
       "    .dataframe tbody tr th {\n",
       "        vertical-align: top;\n",
       "    }\n",
       "\n",
       "    .dataframe thead th {\n",
       "        text-align: right;\n",
       "    }\n",
       "</style>\n",
       "<table border=\"1\" class=\"dataframe\">\n",
       "  <thead>\n",
       "    <tr style=\"text-align: right;\">\n",
       "      <th></th>\n",
       "      <th>Date</th>\n",
       "      <th>precipitation</th>\n",
       "      <th>anomaly</th>\n",
       "    </tr>\n",
       "  </thead>\n",
       "  <tbody>\n",
       "    <tr>\n",
       "      <th>0</th>\n",
       "      <td>1962-01-31</td>\n",
       "      <td>1.459259</td>\n",
       "      <td>0.446176</td>\n",
       "    </tr>\n",
       "    <tr>\n",
       "      <th>1</th>\n",
       "      <td>1962-02-28</td>\n",
       "      <td>0.576000</td>\n",
       "      <td>0.051810</td>\n",
       "    </tr>\n",
       "    <tr>\n",
       "      <th>2</th>\n",
       "      <td>1962-03-31</td>\n",
       "      <td>0.613793</td>\n",
       "      <td>0.084736</td>\n",
       "    </tr>\n",
       "    <tr>\n",
       "      <th>3</th>\n",
       "      <td>1962-04-30</td>\n",
       "      <td>0.320833</td>\n",
       "      <td>-0.039287</td>\n",
       "    </tr>\n",
       "    <tr>\n",
       "      <th>4</th>\n",
       "      <td>1962-05-31</td>\n",
       "      <td>0.434615</td>\n",
       "      <td>0.138790</td>\n",
       "    </tr>\n",
       "    <tr>\n",
       "      <th>...</th>\n",
       "      <td>...</td>\n",
       "      <td>...</td>\n",
       "      <td>...</td>\n",
       "    </tr>\n",
       "    <tr>\n",
       "      <th>694</th>\n",
       "      <td>2019-11-30</td>\n",
       "      <td>2.303704</td>\n",
       "      <td>0.366865</td>\n",
       "    </tr>\n",
       "    <tr>\n",
       "      <th>695</th>\n",
       "      <td>2019-12-31</td>\n",
       "      <td>1.355172</td>\n",
       "      <td>-0.094918</td>\n",
       "    </tr>\n",
       "    <tr>\n",
       "      <th>696</th>\n",
       "      <td>2020-01-31</td>\n",
       "      <td>1.288000</td>\n",
       "      <td>0.274917</td>\n",
       "    </tr>\n",
       "    <tr>\n",
       "      <th>697</th>\n",
       "      <td>2020-02-29</td>\n",
       "      <td>1.255556</td>\n",
       "      <td>0.731365</td>\n",
       "    </tr>\n",
       "    <tr>\n",
       "      <th>698</th>\n",
       "      <td>2020-03-31</td>\n",
       "      <td>0.489286</td>\n",
       "      <td>-0.039771</td>\n",
       "    </tr>\n",
       "  </tbody>\n",
       "</table>\n",
       "<p>699 rows × 3 columns</p>\n",
       "</div>"
      ],
      "text/plain": [
       "          Date  precipitation   anomaly\n",
       "0   1962-01-31       1.459259  0.446176\n",
       "1   1962-02-28       0.576000  0.051810\n",
       "2   1962-03-31       0.613793  0.084736\n",
       "3   1962-04-30       0.320833 -0.039287\n",
       "4   1962-05-31       0.434615  0.138790\n",
       "..         ...            ...       ...\n",
       "694 2019-11-30       2.303704  0.366865\n",
       "695 2019-12-31       1.355172 -0.094918\n",
       "696 2020-01-31       1.288000  0.274917\n",
       "697 2020-02-29       1.255556  0.731365\n",
       "698 2020-03-31       0.489286 -0.039771\n",
       "\n",
       "[699 rows x 3 columns]"
      ]
     },
     "execution_count": 149,
     "metadata": {},
     "output_type": "execute_result"
    }
   ],
   "source": [
    "prec_month=prec_anom.set_index('Date').resample('M').mean()\n",
    "prec_month.reset_index(inplace=True,drop=False)\n",
    "prec_month"
   ]
  },
  {
   "cell_type": "code",
   "execution_count": 140,
   "id": "da270f20",
   "metadata": {},
   "outputs": [
    {
     "ename": "NameError",
     "evalue": "name 'temp_month' is not defined",
     "output_type": "error",
     "traceback": [
      "\u001b[1;31m---------------------------------------------------------------------------\u001b[0m",
      "\u001b[1;31mNameError\u001b[0m                                 Traceback (most recent call last)",
      "Cell \u001b[1;32mIn[140], line 2\u001b[0m\n\u001b[0;32m      1\u001b[0m plt\u001b[38;5;241m.\u001b[39mfigure(figsize\u001b[38;5;241m=\u001b[39m(\u001b[38;5;241m12\u001b[39m,\u001b[38;5;241m6\u001b[39m),constrained_layout\u001b[38;5;241m=\u001b[39m\u001b[38;5;28;01mTrue\u001b[39;00m)\n\u001b[1;32m----> 2\u001b[0m plt\u001b[38;5;241m.\u001b[39mfill_between(x\u001b[38;5;241m=\u001b[39mtemp_month\u001b[38;5;241m.\u001b[39mDate, y1\u001b[38;5;241m=\u001b[39mtemp_month\u001b[38;5;241m.\u001b[39manomaly, y2\u001b[38;5;241m=\u001b[39m\u001b[38;5;241m0\u001b[39m, where\u001b[38;5;241m=\u001b[39mtemp_month\u001b[38;5;241m.\u001b[39manomaly \u001b[38;5;241m>\u001b[39m\u001b[38;5;241m=\u001b[39m\u001b[38;5;241m0\u001b[39m, \n\u001b[0;32m      3\u001b[0m                  interpolate\u001b[38;5;241m=\u001b[39m\u001b[38;5;28;01mTrue\u001b[39;00m,color\u001b[38;5;241m=\u001b[39m\u001b[38;5;124m'\u001b[39m\u001b[38;5;124mred\u001b[39m\u001b[38;5;124m'\u001b[39m,label\u001b[38;5;241m=\u001b[39m\u001b[38;5;124m'\u001b[39m\u001b[38;5;124mpositive\u001b[39m\u001b[38;5;124m'\u001b[39m)\n\u001b[0;32m      4\u001b[0m plt\u001b[38;5;241m.\u001b[39mfill_between(x\u001b[38;5;241m=\u001b[39mtemp_month\u001b[38;5;241m.\u001b[39mDate, y1\u001b[38;5;241m=\u001b[39mtemp_month\u001b[38;5;241m.\u001b[39manomaly, y2\u001b[38;5;241m=\u001b[39m\u001b[38;5;241m0\u001b[39m, where\u001b[38;5;241m=\u001b[39mtemp_month\u001b[38;5;241m.\u001b[39manomaly \u001b[38;5;241m<\u001b[39m\u001b[38;5;241m0\u001b[39m, \n\u001b[0;32m      5\u001b[0m                  interpolate\u001b[38;5;241m=\u001b[39m\u001b[38;5;28;01mTrue\u001b[39;00m,color\u001b[38;5;241m=\u001b[39m\u001b[38;5;124m'\u001b[39m\u001b[38;5;124mblue\u001b[39m\u001b[38;5;124m'\u001b[39m,label\u001b[38;5;241m=\u001b[39m\u001b[38;5;124m'\u001b[39m\u001b[38;5;124mnegative\u001b[39m\u001b[38;5;124m'\u001b[39m)\n\u001b[0;32m      6\u001b[0m plt\u001b[38;5;241m.\u001b[39maxhline(\u001b[38;5;241m0\u001b[39m, color\u001b[38;5;241m=\u001b[39m\u001b[38;5;124m'\u001b[39m\u001b[38;5;124mk\u001b[39m\u001b[38;5;124m'\u001b[39m,lw\u001b[38;5;241m=\u001b[39m\u001b[38;5;241m0.5\u001b[39m)\n",
      "\u001b[1;31mNameError\u001b[0m: name 'temp_month' is not defined"
     ]
    }
   ],
   "source": [
    "plt.figure(figsize=(12,6),constrained_layout=True)\n",
    "plt.fill_between(x=temp_month.Date, y1=temp_month.anomaly, y2=0, where=temp_month.anomaly >=0, \n",
    "                 interpolate=True,color='red',label='positive')\n",
    "plt.fill_between(x=temp_month.Date, y1=temp_month.anomaly, y2=0, where=temp_month.anomaly <0, \n",
    "                 interpolate=True,color='blue',label='negative')\n",
    "plt.axhline(0, color='k',lw=0.5)\n",
    "plt.ylabel('Temperature anomalies (°)')\n",
    "plt.legend(loc='upper left')\n",
    "plt.grid(ls='--')"
   ]
  },
  {
   "cell_type": "code",
   "execution_count": null,
   "id": "0cb8991b",
   "metadata": {},
   "outputs": [],
   "source": []
  },
  {
   "cell_type": "markdown",
   "id": "7724ca2f",
   "metadata": {},
   "source": [
    "## Imputation"
   ]
  },
  {
   "cell_type": "markdown",
   "id": "e9be7e6a",
   "metadata": {},
   "source": [
    "Fill missing values using statistics"
   ]
  },
  {
   "cell_type": "code",
   "execution_count": 93,
   "id": "72171e1c",
   "metadata": {},
   "outputs": [
    {
     "data": {
      "text/html": [
       "<div>\n",
       "<style scoped>\n",
       "    .dataframe tbody tr th:only-of-type {\n",
       "        vertical-align: middle;\n",
       "    }\n",
       "\n",
       "    .dataframe tbody tr th {\n",
       "        vertical-align: top;\n",
       "    }\n",
       "\n",
       "    .dataframe thead th {\n",
       "        text-align: right;\n",
       "    }\n",
       "</style>\n",
       "<table border=\"1\" class=\"dataframe\">\n",
       "  <thead>\n",
       "    <tr style=\"text-align: right;\">\n",
       "      <th></th>\n",
       "      <th>Date</th>\n",
       "      <th>temperature</th>\n",
       "      <th>FillMean</th>\n",
       "      <th>FillMedian</th>\n",
       "    </tr>\n",
       "  </thead>\n",
       "  <tbody>\n",
       "    <tr>\n",
       "      <th>0</th>\n",
       "      <td>1962-01-01</td>\n",
       "      <td>NaN</td>\n",
       "      <td>10.279645</td>\n",
       "      <td>10.2</td>\n",
       "    </tr>\n",
       "    <tr>\n",
       "      <th>1</th>\n",
       "      <td>1962-01-02</td>\n",
       "      <td>4.6</td>\n",
       "      <td>4.600000</td>\n",
       "      <td>4.6</td>\n",
       "    </tr>\n",
       "    <tr>\n",
       "      <th>2</th>\n",
       "      <td>1962-01-03</td>\n",
       "      <td>5.1</td>\n",
       "      <td>5.100000</td>\n",
       "      <td>5.1</td>\n",
       "    </tr>\n",
       "    <tr>\n",
       "      <th>3</th>\n",
       "      <td>1962-01-04</td>\n",
       "      <td>4.3</td>\n",
       "      <td>4.300000</td>\n",
       "      <td>4.3</td>\n",
       "    </tr>\n",
       "    <tr>\n",
       "      <th>4</th>\n",
       "      <td>1962-01-05</td>\n",
       "      <td>5.1</td>\n",
       "      <td>5.100000</td>\n",
       "      <td>5.1</td>\n",
       "    </tr>\n",
       "    <tr>\n",
       "      <th>...</th>\n",
       "      <td>...</td>\n",
       "      <td>...</td>\n",
       "      <td>...</td>\n",
       "      <td>...</td>\n",
       "    </tr>\n",
       "    <tr>\n",
       "      <th>21270</th>\n",
       "      <td>2020-03-27</td>\n",
       "      <td>6.6</td>\n",
       "      <td>6.600000</td>\n",
       "      <td>6.6</td>\n",
       "    </tr>\n",
       "    <tr>\n",
       "      <th>21271</th>\n",
       "      <td>2020-03-28</td>\n",
       "      <td>NaN</td>\n",
       "      <td>10.279645</td>\n",
       "      <td>10.2</td>\n",
       "    </tr>\n",
       "    <tr>\n",
       "      <th>21272</th>\n",
       "      <td>2020-03-29</td>\n",
       "      <td>NaN</td>\n",
       "      <td>10.279645</td>\n",
       "      <td>10.2</td>\n",
       "    </tr>\n",
       "    <tr>\n",
       "      <th>21273</th>\n",
       "      <td>2020-03-30</td>\n",
       "      <td>6.5</td>\n",
       "      <td>6.500000</td>\n",
       "      <td>6.5</td>\n",
       "    </tr>\n",
       "    <tr>\n",
       "      <th>21274</th>\n",
       "      <td>2020-03-31</td>\n",
       "      <td>6.3</td>\n",
       "      <td>6.300000</td>\n",
       "      <td>6.3</td>\n",
       "    </tr>\n",
       "  </tbody>\n",
       "</table>\n",
       "<p>21275 rows × 4 columns</p>\n",
       "</div>"
      ],
      "text/plain": [
       "            Date  temperature   FillMean  FillMedian\n",
       "0     1962-01-01          NaN  10.279645        10.2\n",
       "1     1962-01-02          4.6   4.600000         4.6\n",
       "2     1962-01-03          5.1   5.100000         5.1\n",
       "3     1962-01-04          4.3   4.300000         4.3\n",
       "4     1962-01-05          5.1   5.100000         5.1\n",
       "...          ...          ...        ...         ...\n",
       "21270 2020-03-27          6.6   6.600000         6.6\n",
       "21271 2020-03-28          NaN  10.279645        10.2\n",
       "21272 2020-03-29          NaN  10.279645        10.2\n",
       "21273 2020-03-30          6.5   6.500000         6.5\n",
       "21274 2020-03-31          6.3   6.300000         6.3\n",
       "\n",
       "[21275 rows x 4 columns]"
      ]
     },
     "execution_count": 93,
     "metadata": {},
     "output_type": "execute_result"
    }
   ],
   "source": [
    "## Filling using mean or median\n",
    "\n",
    "tmp=data[['Date','temperature']]\n",
    "\n",
    "tmp = tmp.assign(FillMean=tmp.temperature.fillna(tmp.temperature.mean()))\n",
    "tmp = tmp.assign(FillMedian=tmp.temperature.fillna(tmp.temperature.median()))\n",
    "\n",
    "tmp"
   ]
  },
  {
   "cell_type": "code",
   "execution_count": 97,
   "id": "4de254b4",
   "metadata": {},
   "outputs": [
    {
     "data": {
      "text/plain": [
       "<matplotlib.legend.Legend at 0x2af23fdbf40>"
      ]
     },
     "execution_count": 97,
     "metadata": {},
     "output_type": "execute_result"
    }
   ],
   "source": [
    "plt.figure(figsize=(12,6),constrained_layout=True)\n",
    "plt.plot(tmp.Date,tmp.temperature,'sk',label='original')\n",
    "plt.plot(tmp.Date,tmp.FillMean,'*r',label='mean')\n",
    "plt.ylabel('Temperature (°)')\n",
    "plt.grid(ls='--')\n",
    "plt.legend()"
   ]
  },
  {
   "cell_type": "code",
   "execution_count": 98,
   "id": "53b35923",
   "metadata": {},
   "outputs": [
    {
     "data": {
      "text/plain": [
       "<matplotlib.legend.Legend at 0x2af2590bbe0>"
      ]
     },
     "execution_count": 98,
     "metadata": {},
     "output_type": "execute_result"
    }
   ],
   "source": [
    "plt.figure(figsize=(12,6),constrained_layout=True)\n",
    "plt.plot(tmp.Date,tmp.temperature,'sk',label='original')\n",
    "plt.plot(tmp.Date,tmp.FillMedian,'*r',label='median')\n",
    "plt.ylabel('Temperature (°)')\n",
    "plt.grid(ls='--')\n",
    "plt.legend()"
   ]
  },
  {
   "cell_type": "markdown",
   "id": "9843c7ba",
   "metadata": {},
   "source": [
    "## Filling using the rolling median"
   ]
  },
  {
   "cell_type": "code",
   "execution_count": 99,
   "id": "d1e9064a",
   "metadata": {},
   "outputs": [],
   "source": [
    "tmp['RollingMean']= tmp.temperature.fillna(tmp.temperature.rolling(10,center=True,min_periods=1,).mean())\n",
    "\n",
    "tmp = tmp.assign(RollingMedian=tmp.temperature.fillna(tmp.temperature.rolling(10,center=True,min_periods=1,)\n",
    "                                                                .median()))"
   ]
  },
  {
   "cell_type": "code",
   "execution_count": 106,
   "id": "c647a484",
   "metadata": {},
   "outputs": [
    {
     "data": {
      "text/plain": [
       "Series([], Name: RollingMean, dtype: float64)"
      ]
     },
     "execution_count": 106,
     "metadata": {},
     "output_type": "execute_result"
    }
   ],
   "source": [
    "tmp.RollingMean[tmp.RollingMean.isnull()]"
   ]
  },
  {
   "cell_type": "code",
   "execution_count": 105,
   "id": "4b21c9e1",
   "metadata": {},
   "outputs": [
    {
     "data": {
      "text/plain": [
       "Series([], Name: RollingMedian, dtype: float64)"
      ]
     },
     "execution_count": 105,
     "metadata": {},
     "output_type": "execute_result"
    }
   ],
   "source": [
    "tmp.RollingMedian[tmp.RollingMedian.isnull()]"
   ]
  },
  {
   "cell_type": "code",
   "execution_count": 102,
   "id": "8bd57e32",
   "metadata": {},
   "outputs": [
    {
     "data": {
      "text/plain": [
       "<matplotlib.legend.Legend at 0x2af265b94b0>"
      ]
     },
     "execution_count": 102,
     "metadata": {},
     "output_type": "execute_result"
    }
   ],
   "source": [
    "plt.figure(figsize=(12,6),constrained_layout=True)\n",
    "plt.plot(tmp.Date,tmp.temperature,'sk',label='original')\n",
    "plt.plot(tmp.Date,tmp.RollingMean,'*r',label='rolling mean')\n",
    "plt.ylabel('Temperature (°)')\n",
    "plt.grid(ls='--')\n",
    "plt.legend()"
   ]
  },
  {
   "cell_type": "code",
   "execution_count": 108,
   "id": "e30967b5",
   "metadata": {},
   "outputs": [
    {
     "data": {
      "text/plain": [
       "<matplotlib.legend.Legend at 0x2af281d8400>"
      ]
     },
     "execution_count": 108,
     "metadata": {},
     "output_type": "execute_result"
    }
   ],
   "source": [
    "plt.figure(figsize=(12,6),constrained_layout=True)\n",
    "plt.plot(tmp.Date,tmp.temperature,'sk',label='original')\n",
    "plt.plot(tmp.Date,tmp.RollingMedian,'*r',label='rolling median')\n",
    "plt.ylabel('Temperature (°)')\n",
    "plt.grid(ls='--')\n",
    "plt.legend()\n"
   ]
  },
  {
   "cell_type": "code",
   "execution_count": null,
   "id": "6f77b16a",
   "metadata": {},
   "outputs": [],
   "source": [
    "from sklearn.impute import KNNImputer\n",
    "\n",
    "tmp = tmp.assign(InterpolateLinear=tmp.temperature.interpolate(method='linear'))\n",
    "tmp = tmp.assign(InterpolateQuadratic=tmp.temperature.interpolate(method='quadratic'))\n",
    "tmp = tmp.assign(InterpolateCubic=tmp.temperature.interpolate(method='cubic'))\n",
    "tmp = tmp.assign(InterpolateSLinear=tmp.temperature.interpolate(method='slinear')) # spline linear\n",
    "tmp = tmp.assign(InterpolateAkima=tmp.temperature.interpolate(method='akima'))\n",
    "tmp = tmp.assign(InterpolatePoly3=tmp.temperature.interpolate(method='polynomial', order=3))\n",
    "tmp = tmp.assign(InterpolatePoly5=tmp.temperature.interpolate(method='polynomial', order=5)) \n",
    "tmp = tmp.assign(InterpolatePoly7=tmp.temperature.interpolate(method='polynomial', order=7))\n",
    "tmp = tmp.assign(InterpolateSpline3=tmp.temperature.interpolate(method='spline', order=3))\n",
    "tmp = tmp.assign(InterpolateSpline4=tmp.temperature.interpolate(method='spline', order=4))\n",
    "tmp = tmp.assign(InterpolateSpline5=tmp.temperature.interpolate(method='spline', order=5))\n",
    "tmp = tmp.assign(ffill=tmp.temperature.ffill())\n",
    "tmp = tmp.assign(bfill = tmp.temperature.bfill())\n",
    "imputer = KNNImputer(n_neighbors=5)\n",
    "tmp = tmp.assign(kNN=imputer.fit_transform(tmp['temperature'].to_frame()))\n"
   ]
  },
  {
   "cell_type": "markdown",
   "id": "7282e2b4",
   "metadata": {},
   "source": [
    "## Calculate linear trends"
   ]
  },
  {
   "cell_type": "code",
   "execution_count": 144,
   "id": "1d6bdef6",
   "metadata": {},
   "outputs": [],
   "source": [
    "slope, intercept, r_value, p_value, std_err = sp.stats.linregress(sal_month.index,sal_month.anomaly)"
   ]
  },
  {
   "cell_type": "code",
   "execution_count": 150,
   "id": "24612f53-e8e2-4516-b65a-1c5780a5ddec",
   "metadata": {},
   "outputs": [],
   "source": [
    "slope, intercept, r_value, p_value, std_err = sp.stats.linregress(prec_month.index,prec_month.anomaly)"
   ]
  },
  {
   "cell_type": "code",
   "execution_count": 145,
   "id": "b59fef60",
   "metadata": {},
   "outputs": [],
   "source": [
    "m, b = np.polyfit(sal_month.index,sal_month.anomaly, 1)"
   ]
  },
  {
   "cell_type": "code",
   "execution_count": 151,
   "id": "2da14f6a-10e4-4f79-a054-f02ba0db39d0",
   "metadata": {},
   "outputs": [],
   "source": [
    "m, b = np.polyfit(prec_month.index,prec_month.anomaly, 1)"
   ]
  },
  {
   "cell_type": "code",
   "execution_count": 124,
   "id": "1c2a59b2",
   "metadata": {},
   "outputs": [
    {
     "data": {
      "text/plain": [
       "-0.9716899814019064"
      ]
     },
     "execution_count": 124,
     "metadata": {},
     "output_type": "execute_result"
    }
   ],
   "source": [
    "intercept"
   ]
  },
  {
   "cell_type": "code",
   "execution_count": 125,
   "id": "047e27e7",
   "metadata": {},
   "outputs": [
    {
     "data": {
      "text/plain": [
       "-0.9716899814019062"
      ]
     },
     "execution_count": 125,
     "metadata": {},
     "output_type": "execute_result"
    }
   ],
   "source": [
    "b"
   ]
  },
  {
   "cell_type": "code",
   "execution_count": 158,
   "id": "c1ea9a75",
   "metadata": {},
   "outputs": [
    {
     "data": {
      "text/plain": [
       "<matplotlib.legend.Legend at 0x1691340bd50>"
      ]
     },
     "execution_count": 158,
     "metadata": {},
     "output_type": "execute_result"
    }
   ],
   "source": [
    "#PLOT TREND SALINITY\n",
    "plt.figure(figsize=(10,6),constrained_layout=True)\n",
    "plt.plot(sal_month.Date,sal_month.anomaly,'k',label='SST anomaly')\n",
    "plt.plot(sal_month.Date, slope*sal_month.index+intercept,'--', color='black',label='Linear regression')\n",
    "plt.text(sal_month.Date[0], 2.3, r'Trend = '+ str(round((slope*sal_month.index[-1]+intercept)-\n",
    "                                                       (slope*sal_month.index[0]+intercept),2))+'/58 years')\n",
    "plt.text(sal_month.Date[0], 1.7, r'Trend = '+ str(round(((slope*sal_month.index[-1]+intercept)-\n",
    "                                                          (slope*sal_month.index[0]+intercept)/58),2))+'/years')\n",
    "plt.ylabel('Salinity')\n",
    "plt.grid(ls='--')\n",
    "plt.legend(loc='lower right')"
   ]
  },
  {
   "cell_type": "code",
   "execution_count": 161,
   "id": "f33f579d-ad76-4e50-a87f-cc07a61458eb",
   "metadata": {},
   "outputs": [
    {
     "data": {
      "text/plain": [
       "<matplotlib.legend.Legend at 0x16915758510>"
      ]
     },
     "execution_count": 161,
     "metadata": {},
     "output_type": "execute_result"
    }
   ],
   "source": [
    "#PLOT TREND PREC\n",
    "plt.figure(figsize=(12,6),constrained_layout=True)\n",
    "plt.plot(prec_month.Date,prec_month.anomaly,'k',label='Precipitation anomaly')\n",
    "plt.plot(prec_month.Date, slope*prec_month.index+intercept,'--', color='black',label='Linear regression')\n",
    "plt.text(prec_month.Date[0], -1.6, r'Trend = '+ str(round((slope*prec_month.index[-1]+intercept)-\n",
    "                                                       (slope*prec_month.index[0]+intercept),2))+'mm/58 years')\n",
    "plt.text(prec_month.Date[0], -1.2, r'Trend = '+ str(round(((slope*prec_month.index[-1]+intercept)-\n",
    "                                                          (slope*prec_month.index[0]+intercept)/58),2))+'mm/years')\n",
    "plt.ylabel('Precipitation')\n",
    "plt.grid(ls='--')\n",
    "plt.legend(loc='lower right')"
   ]
  },
  {
   "cell_type": "markdown",
   "id": "b93e0ffa",
   "metadata": {},
   "source": [
    "## Correlation"
   ]
  },
  {
   "cell_type": "markdown",
   "id": "a4a1b657",
   "metadata": {},
   "source": [
    "We will correlate SST with sunlight duration"
   ]
  },
  {
   "cell_type": "markdown",
   "id": "4dba5148",
   "metadata": {},
   "source": [
    "First, we merge the two variables using date. They will have the same size and same dates."
   ]
  },
  {
   "cell_type": "code",
   "execution_count": 100,
   "id": "52e1235a",
   "metadata": {},
   "outputs": [
    {
     "data": {
      "text/html": [
       "<div>\n",
       "<style scoped>\n",
       "    .dataframe tbody tr th:only-of-type {\n",
       "        vertical-align: middle;\n",
       "    }\n",
       "\n",
       "    .dataframe tbody tr th {\n",
       "        vertical-align: top;\n",
       "    }\n",
       "\n",
       "    .dataframe thead th {\n",
       "        text-align: right;\n",
       "    }\n",
       "</style>\n",
       "<table border=\"1\" class=\"dataframe\">\n",
       "  <thead>\n",
       "    <tr style=\"text-align: right;\">\n",
       "      <th></th>\n",
       "      <th>Date</th>\n",
       "      <th>Salinity</th>\n",
       "      <th>precipitation</th>\n",
       "    </tr>\n",
       "  </thead>\n",
       "  <tbody>\n",
       "    <tr>\n",
       "      <th>0</th>\n",
       "      <td>1962-01-01</td>\n",
       "      <td>NaN</td>\n",
       "      <td>0.3</td>\n",
       "    </tr>\n",
       "    <tr>\n",
       "      <th>1</th>\n",
       "      <td>1962-01-02</td>\n",
       "      <td>NaN</td>\n",
       "      <td>0.2</td>\n",
       "    </tr>\n",
       "    <tr>\n",
       "      <th>2</th>\n",
       "      <td>1962-01-03</td>\n",
       "      <td>NaN</td>\n",
       "      <td>0.3</td>\n",
       "    </tr>\n",
       "    <tr>\n",
       "      <th>3</th>\n",
       "      <td>1962-01-04</td>\n",
       "      <td>NaN</td>\n",
       "      <td>0.6</td>\n",
       "    </tr>\n",
       "    <tr>\n",
       "      <th>4</th>\n",
       "      <td>1962-01-05</td>\n",
       "      <td>NaN</td>\n",
       "      <td>1.6</td>\n",
       "    </tr>\n",
       "    <tr>\n",
       "      <th>...</th>\n",
       "      <td>...</td>\n",
       "      <td>...</td>\n",
       "      <td>...</td>\n",
       "    </tr>\n",
       "    <tr>\n",
       "      <th>21270</th>\n",
       "      <td>2020-03-27</td>\n",
       "      <td>31.677</td>\n",
       "      <td>0.0</td>\n",
       "    </tr>\n",
       "    <tr>\n",
       "      <th>21271</th>\n",
       "      <td>2020-03-28</td>\n",
       "      <td>NaN</td>\n",
       "      <td>0.0</td>\n",
       "    </tr>\n",
       "    <tr>\n",
       "      <th>21272</th>\n",
       "      <td>2020-03-29</td>\n",
       "      <td>NaN</td>\n",
       "      <td>0.4</td>\n",
       "    </tr>\n",
       "    <tr>\n",
       "      <th>21273</th>\n",
       "      <td>2020-03-30</td>\n",
       "      <td>31.568</td>\n",
       "      <td>1.5</td>\n",
       "    </tr>\n",
       "    <tr>\n",
       "      <th>21274</th>\n",
       "      <td>2020-03-31</td>\n",
       "      <td>32.015</td>\n",
       "      <td>0.2</td>\n",
       "    </tr>\n",
       "  </tbody>\n",
       "</table>\n",
       "<p>21275 rows × 3 columns</p>\n",
       "</div>"
      ],
      "text/plain": [
       "            Date  Salinity  precipitation\n",
       "0     1962-01-01       NaN            0.3\n",
       "1     1962-01-02       NaN            0.2\n",
       "2     1962-01-03       NaN            0.3\n",
       "3     1962-01-04       NaN            0.6\n",
       "4     1962-01-05       NaN            1.6\n",
       "...          ...       ...            ...\n",
       "21270 2020-03-27    31.677            0.0\n",
       "21271 2020-03-28       NaN            0.0\n",
       "21272 2020-03-29       NaN            0.4\n",
       "21273 2020-03-30    31.568            1.5\n",
       "21274 2020-03-31    32.015            0.2\n",
       "\n",
       "[21275 rows x 3 columns]"
      ]
     },
     "execution_count": 100,
     "metadata": {},
     "output_type": "execute_result"
    }
   ],
   "source": [
    "sal_prec=sal_anom.merge(prec_anom,on='Date')\n",
    "sal_prec"
   ]
  },
  {
   "cell_type": "code",
   "execution_count": 101,
   "id": "2523a346-795c-49fd-bf3d-1e948178ff3b",
   "metadata": {},
   "outputs": [],
   "source": [
    "sal_prec_no_nan=sal_prec.dropna().reset_index(drop=True)"
   ]
  },
  {
   "cell_type": "code",
   "execution_count": 102,
   "id": "0e386bd2",
   "metadata": {},
   "outputs": [
    {
     "data": {
      "text/html": [
       "<div>\n",
       "<style scoped>\n",
       "    .dataframe tbody tr th:only-of-type {\n",
       "        vertical-align: middle;\n",
       "    }\n",
       "\n",
       "    .dataframe tbody tr th {\n",
       "        vertical-align: top;\n",
       "    }\n",
       "\n",
       "    .dataframe thead th {\n",
       "        text-align: right;\n",
       "    }\n",
       "</style>\n",
       "<table border=\"1\" class=\"dataframe\">\n",
       "  <thead>\n",
       "    <tr style=\"text-align: right;\">\n",
       "      <th></th>\n",
       "      <th>Date</th>\n",
       "      <th>Salinity</th>\n",
       "      <th>precipitation</th>\n",
       "    </tr>\n",
       "  </thead>\n",
       "  <tbody>\n",
       "    <tr>\n",
       "      <th>0</th>\n",
       "      <td>1962-01-15</td>\n",
       "      <td>33.480</td>\n",
       "      <td>0.0</td>\n",
       "    </tr>\n",
       "    <tr>\n",
       "      <th>1</th>\n",
       "      <td>1962-01-17</td>\n",
       "      <td>33.554</td>\n",
       "      <td>2.0</td>\n",
       "    </tr>\n",
       "    <tr>\n",
       "      <th>2</th>\n",
       "      <td>1962-01-19</td>\n",
       "      <td>33.560</td>\n",
       "      <td>4.9</td>\n",
       "    </tr>\n",
       "    <tr>\n",
       "      <th>3</th>\n",
       "      <td>1962-01-22</td>\n",
       "      <td>33.446</td>\n",
       "      <td>5.9</td>\n",
       "    </tr>\n",
       "    <tr>\n",
       "      <th>4</th>\n",
       "      <td>1962-01-24</td>\n",
       "      <td>32.861</td>\n",
       "      <td>11.0</td>\n",
       "    </tr>\n",
       "    <tr>\n",
       "      <th>...</th>\n",
       "      <td>...</td>\n",
       "      <td>...</td>\n",
       "      <td>...</td>\n",
       "    </tr>\n",
       "    <tr>\n",
       "      <th>13664</th>\n",
       "      <td>2020-03-25</td>\n",
       "      <td>33.426</td>\n",
       "      <td>0.0</td>\n",
       "    </tr>\n",
       "    <tr>\n",
       "      <th>13665</th>\n",
       "      <td>2020-03-26</td>\n",
       "      <td>33.828</td>\n",
       "      <td>0.0</td>\n",
       "    </tr>\n",
       "    <tr>\n",
       "      <th>13666</th>\n",
       "      <td>2020-03-27</td>\n",
       "      <td>31.677</td>\n",
       "      <td>0.0</td>\n",
       "    </tr>\n",
       "    <tr>\n",
       "      <th>13667</th>\n",
       "      <td>2020-03-30</td>\n",
       "      <td>31.568</td>\n",
       "      <td>1.5</td>\n",
       "    </tr>\n",
       "    <tr>\n",
       "      <th>13668</th>\n",
       "      <td>2020-03-31</td>\n",
       "      <td>32.015</td>\n",
       "      <td>0.2</td>\n",
       "    </tr>\n",
       "  </tbody>\n",
       "</table>\n",
       "<p>13669 rows × 3 columns</p>\n",
       "</div>"
      ],
      "text/plain": [
       "            Date  Salinity  precipitation\n",
       "0     1962-01-15    33.480            0.0\n",
       "1     1962-01-17    33.554            2.0\n",
       "2     1962-01-19    33.560            4.9\n",
       "3     1962-01-22    33.446            5.9\n",
       "4     1962-01-24    32.861           11.0\n",
       "...          ...       ...            ...\n",
       "13664 2020-03-25    33.426            0.0\n",
       "13665 2020-03-26    33.828            0.0\n",
       "13666 2020-03-27    31.677            0.0\n",
       "13667 2020-03-30    31.568            1.5\n",
       "13668 2020-03-31    32.015            0.2\n",
       "\n",
       "[13669 rows x 3 columns]"
      ]
     },
     "execution_count": 102,
     "metadata": {},
     "output_type": "execute_result"
    }
   ],
   "source": [
    "sal_prec_no_nan"
   ]
  },
  {
   "cell_type": "code",
   "execution_count": 103,
   "id": "d335c1b6",
   "metadata": {},
   "outputs": [],
   "source": [
    "sal_prec_no_nan.rename(columns={'anomaly_x':'sal_anom','anomaly_y':'prec_anom'},inplace=True)"
   ]
  },
  {
   "cell_type": "code",
   "execution_count": 104,
   "id": "6bd7acf9",
   "metadata": {},
   "outputs": [],
   "source": [
    "sal_prec_month=sal_prec_no_nan.set_index('Date').resample('M').mean()\n",
    "sal_prec_month.reset_index(inplace=True,drop=False)"
   ]
  },
  {
   "cell_type": "code",
   "execution_count": 105,
   "id": "019bb312",
   "metadata": {},
   "outputs": [
    {
     "data": {
      "text/html": [
       "<div>\n",
       "<style scoped>\n",
       "    .dataframe tbody tr th:only-of-type {\n",
       "        vertical-align: middle;\n",
       "    }\n",
       "\n",
       "    .dataframe tbody tr th {\n",
       "        vertical-align: top;\n",
       "    }\n",
       "\n",
       "    .dataframe thead th {\n",
       "        text-align: right;\n",
       "    }\n",
       "</style>\n",
       "<table border=\"1\" class=\"dataframe\">\n",
       "  <thead>\n",
       "    <tr style=\"text-align: right;\">\n",
       "      <th></th>\n",
       "      <th>Date</th>\n",
       "      <th>Salinity</th>\n",
       "      <th>precipitation</th>\n",
       "    </tr>\n",
       "  </thead>\n",
       "  <tbody>\n",
       "    <tr>\n",
       "      <th>0</th>\n",
       "      <td>1962-01-31</td>\n",
       "      <td>32.732750</td>\n",
       "      <td>3.512500</td>\n",
       "    </tr>\n",
       "    <tr>\n",
       "      <th>1</th>\n",
       "      <td>1962-02-28</td>\n",
       "      <td>30.751333</td>\n",
       "      <td>0.855556</td>\n",
       "    </tr>\n",
       "    <tr>\n",
       "      <th>2</th>\n",
       "      <td>1962-03-31</td>\n",
       "      <td>30.666308</td>\n",
       "      <td>1.500000</td>\n",
       "    </tr>\n",
       "    <tr>\n",
       "      <th>3</th>\n",
       "      <td>1962-04-30</td>\n",
       "      <td>30.938444</td>\n",
       "      <td>1.055556</td>\n",
       "    </tr>\n",
       "    <tr>\n",
       "      <th>4</th>\n",
       "      <td>1962-05-31</td>\n",
       "      <td>30.262889</td>\n",
       "      <td>1.444444</td>\n",
       "    </tr>\n",
       "    <tr>\n",
       "      <th>...</th>\n",
       "      <td>...</td>\n",
       "      <td>...</td>\n",
       "      <td>...</td>\n",
       "    </tr>\n",
       "    <tr>\n",
       "      <th>694</th>\n",
       "      <td>2019-11-30</td>\n",
       "      <td>33.264625</td>\n",
       "      <td>3.156250</td>\n",
       "    </tr>\n",
       "    <tr>\n",
       "      <th>695</th>\n",
       "      <td>2019-12-31</td>\n",
       "      <td>33.451588</td>\n",
       "      <td>1.164706</td>\n",
       "    </tr>\n",
       "    <tr>\n",
       "      <th>696</th>\n",
       "      <td>2020-01-31</td>\n",
       "      <td>33.542000</td>\n",
       "      <td>3.745455</td>\n",
       "    </tr>\n",
       "    <tr>\n",
       "      <th>697</th>\n",
       "      <td>2020-02-29</td>\n",
       "      <td>32.415667</td>\n",
       "      <td>4.522222</td>\n",
       "    </tr>\n",
       "    <tr>\n",
       "      <th>698</th>\n",
       "      <td>2020-03-31</td>\n",
       "      <td>32.636591</td>\n",
       "      <td>1.140909</td>\n",
       "    </tr>\n",
       "  </tbody>\n",
       "</table>\n",
       "<p>699 rows × 3 columns</p>\n",
       "</div>"
      ],
      "text/plain": [
       "          Date   Salinity  precipitation\n",
       "0   1962-01-31  32.732750       3.512500\n",
       "1   1962-02-28  30.751333       0.855556\n",
       "2   1962-03-31  30.666308       1.500000\n",
       "3   1962-04-30  30.938444       1.055556\n",
       "4   1962-05-31  30.262889       1.444444\n",
       "..         ...        ...            ...\n",
       "694 2019-11-30  33.264625       3.156250\n",
       "695 2019-12-31  33.451588       1.164706\n",
       "696 2020-01-31  33.542000       3.745455\n",
       "697 2020-02-29  32.415667       4.522222\n",
       "698 2020-03-31  32.636591       1.140909\n",
       "\n",
       "[699 rows x 3 columns]"
      ]
     },
     "execution_count": 105,
     "metadata": {},
     "output_type": "execute_result"
    }
   ],
   "source": [
    "sal_prec_month"
   ]
  },
  {
   "cell_type": "code",
   "execution_count": 107,
   "id": "9ce8acfa",
   "metadata": {},
   "outputs": [
    {
     "data": {
      "text/plain": [
       "Text(0, 0.5, 'Salinity')"
      ]
     },
     "execution_count": 107,
     "metadata": {},
     "output_type": "execute_result"
    }
   ],
   "source": [
    "plt.figure(figsize=(10,8),constrained_layout=True)\n",
    "plt.plot(sal_prec_month.precipitation,sal_prec_month.Salinity,'.k',ms=8)\n",
    "plt.ylim([27,35])\n",
    "plt.xlim([0,9])\n",
    "plt.grid(ls='--')\n",
    "#obtain m (slope) and b(intercept) of linear regression line\n",
    "m, b = np.polyfit(sal_prec_month.precipitation,sal_prec_month.Salinity, 1)\n",
    "#use red as color for regression line\n",
    "plt.plot(sal_prec_month.precipitation, (m*sal_prec_month.precipitation+b), color='red',label='Linear regression')\n",
    "plt.axline((0, 27), slope=1,color='black',ls='--',label='1:1')\n",
    "plt.text(8, 28, r'r = '+ str(round(sp.stats.pearsonr(sal_prec_month.precipitation,sal_prec_month.Salinity)[0],2)))\n",
    "plt.legend(bbox_to_anchor=(0, 1, 1, 0), loc=\"lower left\",ncol=3)\n",
    "plt.gca().set_aspect('equal', 'box')\n",
    "plt.xlabel('Precipitation (mm)')\n",
    "plt.ylabel('Salinity')"
   ]
  },
  {
   "cell_type": "code",
   "execution_count": 168,
   "id": "d02c0f46",
   "metadata": {},
   "outputs": [
    {
     "data": {
      "text/plain": [
       "array([[1.        , 0.06740879],\n",
       "       [0.06740879, 1.        ]])"
      ]
     },
     "execution_count": 168,
     "metadata": {},
     "output_type": "execute_result"
    }
   ],
   "source": [
    "np.corrcoef(sal_prec_month.precipitation,sal_prec_month.Salinity)"
   ]
  },
  {
   "cell_type": "code",
   "execution_count": 170,
   "id": "3f448aed",
   "metadata": {},
   "outputs": [
    {
     "data": {
      "text/plain": [
       "Text(0, 0.5, 'Salinity')"
      ]
     },
     "execution_count": 170,
     "metadata": {},
     "output_type": "execute_result"
    }
   ],
   "source": [
    "plt.figure(figsize=(10,8),constrained_layout=True)\n",
    "plt.plot(sal_prec_month.prec_anom,sal_prec_month.sal_anom,'.k',ms=8)\n",
    "plt.ylim([-5,5])\n",
    "plt.xlim([-5,5])\n",
    "plt.grid(ls='--')\n",
    "#obtain m (slope) and b(intercept) of linear regression line\n",
    "m, b = np.polyfit(sal_prec_month.prec_anom,sal_prec_month.sal_anom, 1)\n",
    "#use red as color for regression line\n",
    "plt.plot(sal_prec_month.prec_anom, (m*sal_prec_month.prec_anom+b), color='red',label='Linear regression')\n",
    "plt.axline((-5, -5), slope=1,color='black',ls='--',label='1:1')\n",
    "plt.text(-4.2, 3, r'r = '+ str(round(sp.stats.pearsonr(sal_prec_month.prec_anom,sal_prec_month.sal_anom)[0],2)))\n",
    "plt.legend(bbox_to_anchor=(0, 1, 1, 0), loc=\"lower left\",ncol=3)\n",
    "plt.gca().set_aspect('equal', 'box')\n",
    "plt.xlabel('Precipitation (mm)')\n",
    "plt.ylabel('Salinity')"
   ]
  },
  {
   "cell_type": "code",
   "execution_count": 171,
   "id": "9dcf15a6",
   "metadata": {},
   "outputs": [
    {
     "data": {
      "text/plain": [
       "array([[1.        , 0.00536874],\n",
       "       [0.00536874, 1.        ]])"
      ]
     },
     "execution_count": 171,
     "metadata": {},
     "output_type": "execute_result"
    }
   ],
   "source": [
    "np.corrcoef(sal_prec_month.prec_anom,sal_prec_month.sal_anom)"
   ]
  },
  {
   "cell_type": "markdown",
   "id": "5389a295",
   "metadata": {},
   "source": [
    "## Lagged correlation"
   ]
  },
  {
   "cell_type": "code",
   "execution_count": 170,
   "id": "19c0991e-7f04-4f94-bab2-bd41c0f24a71",
   "metadata": {},
   "outputs": [],
   "source": [
    "# Function to calculate lagged correlation\n",
    "def lagged_correlation(series1, series2, max_lag):\n",
    "    corr_values = []\n",
    "    for lag in range(max_lag + 1):\n",
    "        correlation = series1.shift(lag).corr(series2)\n",
    "        corr_values.append(correlation)\n",
    "    return corr_values"
   ]
  },
  {
   "cell_type": "code",
   "execution_count": null,
   "id": "48bcb88f-ae1e-41c9-8bea-b4bec4aa8ed9",
   "metadata": {},
   "outputs": [],
   "source": []
  },
  {
   "cell_type": "code",
   "execution_count": 172,
   "id": "c6062be2",
   "metadata": {},
   "outputs": [],
   "source": [
    "norm_prec = np.linalg.norm(sal_prec_month.prec_anom)\n",
    "a = sal_prec_month.prec_anom / norm_prec\n",
    "norm_sal = np.linalg.norm(sal_prec_month.sal_anom)\n",
    "b = sal_prec_month.sal_anom / norm_sal\n",
    "c = np.correlate(a, b, mode = 'full')\n",
    "lags=np.arange(-698, 699)"
   ]
  },
  {
   "cell_type": "code",
   "execution_count": 173,
   "id": "58fe2fbe",
   "metadata": {},
   "outputs": [],
   "source": [
    "plt.figure(figsize=(10,8),constrained_layout=True)\n",
    "plt.axvline(0,color='k')\n",
    "plt.stem(lags,c)\n",
    "plt.grid(ls='--')"
   ]
  },
  {
   "cell_type": "code",
   "execution_count": 181,
   "id": "7bd483ee",
   "metadata": {},
   "outputs": [],
   "source": [
    "norm_prec = np.linalg.norm(sal_prec_month.precipitation)\n",
    "a = sal_prec_month.precipitation / norm_prec\n",
    "norm_sal = np.linalg.norm(sal_prec_month.Salinity)\n",
    "b = sal_prec_month.Salinity / norm_sal\n",
    "c = np.correlate(a, b, mode = 'full')\n",
    "lags=np.arange(-698, 699)"
   ]
  },
  {
   "cell_type": "code",
   "execution_count": 182,
   "id": "a670a401-3a5b-4cca-af8c-dcbaeb98f796",
   "metadata": {},
   "outputs": [],
   "source": [
    "plt.figure(figsize=(10,8),constrained_layout=True)\n",
    "plt.axvline(0,color='k')\n",
    "plt.stem(lags,c)\n",
    "plt.grid(ls='--')"
   ]
  },
  {
   "cell_type": "code",
   "execution_count": null,
   "id": "530ba42b-4584-4765-96fd-221d84f17316",
   "metadata": {},
   "outputs": [],
   "source": []
  },
  {
   "cell_type": "code",
   "execution_count": 175,
   "id": "2902814a",
   "metadata": {},
   "outputs": [],
   "source": [
    "pv_sal= pd.pivot_table(sal_prec_month, index=sal_prec_month.Date.dt.month, columns=sal_prec_month.Date.dt.year,values='Salinity')"
   ]
  },
  {
   "cell_type": "code",
   "execution_count": 177,
   "id": "541df369",
   "metadata": {},
   "outputs": [],
   "source": [
    "X, Y = np.meshgrid(pv_sal.columns,pv_sal.index)"
   ]
  },
  {
   "cell_type": "code",
   "execution_count": 184,
   "id": "60d3677c",
   "metadata": {},
   "outputs": [
    {
     "data": {
      "text/plain": [
       "Text(0.5, 0, 'Years')"
      ]
     },
     "execution_count": 184,
     "metadata": {},
     "output_type": "execute_result"
    }
   ],
   "source": [
    "plt.figure(figsize=(14,8),constrained_layout=True)\n",
    "img=plt.pcolormesh(X,Y,pv_sal.values,shading='auto', cmap='viridis')\n",
    "cbar=plt.colorbar(orientation='horizontal',shrink=0.59,pad=0.01,label='Salinity')\n",
    "plt.ylabel('Months')\n",
    "plt.xlabel('Years')"
   ]
  },
  {
   "cell_type": "markdown",
   "id": "1795a099",
   "metadata": {},
   "source": [
    "# Heat map"
   ]
  },
  {
   "cell_type": "code",
   "execution_count": 185,
   "id": "3e863549",
   "metadata": {},
   "outputs": [],
   "source": [
    "pv_prec= pd.pivot_table(sal_prec_month, index=sal_prec_month.Date.dt.month, columns=sal_prec_month.Date.dt.year,values='precipitation')"
   ]
  },
  {
   "cell_type": "code",
   "execution_count": 189,
   "id": "5e0a3fc9",
   "metadata": {},
   "outputs": [
    {
     "data": {
      "text/plain": [
       "Text(0.5, 0, 'Years')"
      ]
     },
     "execution_count": 189,
     "metadata": {},
     "output_type": "execute_result"
    }
   ],
   "source": [
    "plt.figure(figsize=(14,8),constrained_layout=True)\n",
    "img=plt.pcolormesh(X,Y,pv_prec.values,shading='auto', cmap='Blues')\n",
    "cbar=plt.colorbar(orientation='horizontal',shrink=0.59,pad=0.01,label='Precipitation (mm)')\n",
    "plt.ylabel('Months')\n",
    "plt.xlabel('Years')"
   ]
  },
  {
   "cell_type": "code",
   "execution_count": null,
   "id": "9c03b68d",
   "metadata": {},
   "outputs": [],
   "source": []
  },
  {
   "cell_type": "markdown",
   "id": "a4285add",
   "metadata": {},
   "source": [
    "https://download.gebco.net/"
   ]
  },
  {
   "cell_type": "code",
   "execution_count": 17,
   "id": "3d90f728",
   "metadata": {},
   "outputs": [],
   "source": [
    "import cartopy.crs as ccrs\n",
    "import cartopy.feature as cfeature\n",
    "from cartopy.mpl.ticker import LongitudeFormatter, LatitudeFormatter"
   ]
  },
  {
   "cell_type": "markdown",
   "id": "dc778d39",
   "metadata": {},
   "source": [
    "Load the netcdf file with xarray package."
   ]
  },
  {
   "cell_type": "code",
   "execution_count": 1,
   "id": "31564d1a",
   "metadata": {},
   "outputs": [],
   "source": [
    "import xarray as xr"
   ]
  },
  {
   "cell_type": "code",
   "execution_count": 12,
   "id": "5a3ae63c",
   "metadata": {},
   "outputs": [],
   "source": [
    "file='G:/PhD/bathymetry/gebco_2020_n61.0_s49.0_w-5.0_e10.0.nc'\n",
    "ds_bat = xr.open_dataarray(file,decode_cf=False)\n",
    "ds_bat = ds_bat.sel(lon=slice(2.5,9.25),lat=slice(53,56))\n"
   ]
  },
  {
   "cell_type": "code",
   "execution_count": 13,
   "id": "5353d0e7",
   "metadata": {},
   "outputs": [
    {
     "data": {
      "text/html": [
       "<div><svg style=\"position: absolute; width: 0; height: 0; overflow: hidden\">\n",
       "<defs>\n",
       "<symbol id=\"icon-database\" viewBox=\"0 0 32 32\">\n",
       "<path d=\"M16 0c-8.837 0-16 2.239-16 5v4c0 2.761 7.163 5 16 5s16-2.239 16-5v-4c0-2.761-7.163-5-16-5z\"></path>\n",
       "<path d=\"M16 17c-8.837 0-16-2.239-16-5v6c0 2.761 7.163 5 16 5s16-2.239 16-5v-6c0 2.761-7.163 5-16 5z\"></path>\n",
       "<path d=\"M16 26c-8.837 0-16-2.239-16-5v6c0 2.761 7.163 5 16 5s16-2.239 16-5v-6c0 2.761-7.163 5-16 5z\"></path>\n",
       "</symbol>\n",
       "<symbol id=\"icon-file-text2\" viewBox=\"0 0 32 32\">\n",
       "<path d=\"M28.681 7.159c-0.694-0.947-1.662-2.053-2.724-3.116s-2.169-2.030-3.116-2.724c-1.612-1.182-2.393-1.319-2.841-1.319h-15.5c-1.378 0-2.5 1.121-2.5 2.5v27c0 1.378 1.122 2.5 2.5 2.5h23c1.378 0 2.5-1.122 2.5-2.5v-19.5c0-0.448-0.137-1.23-1.319-2.841zM24.543 5.457c0.959 0.959 1.712 1.825 2.268 2.543h-4.811v-4.811c0.718 0.556 1.584 1.309 2.543 2.268zM28 29.5c0 0.271-0.229 0.5-0.5 0.5h-23c-0.271 0-0.5-0.229-0.5-0.5v-27c0-0.271 0.229-0.5 0.5-0.5 0 0 15.499-0 15.5 0v7c0 0.552 0.448 1 1 1h7v19.5z\"></path>\n",
       "<path d=\"M23 26h-14c-0.552 0-1-0.448-1-1s0.448-1 1-1h14c0.552 0 1 0.448 1 1s-0.448 1-1 1z\"></path>\n",
       "<path d=\"M23 22h-14c-0.552 0-1-0.448-1-1s0.448-1 1-1h14c0.552 0 1 0.448 1 1s-0.448 1-1 1z\"></path>\n",
       "<path d=\"M23 18h-14c-0.552 0-1-0.448-1-1s0.448-1 1-1h14c0.552 0 1 0.448 1 1s-0.448 1-1 1z\"></path>\n",
       "</symbol>\n",
       "</defs>\n",
       "</svg>\n",
       "<style>/* CSS stylesheet for displaying xarray objects in jupyterlab.\n",
       " *\n",
       " */\n",
       "\n",
       ":root {\n",
       "  --xr-font-color0: var(--jp-content-font-color0, rgba(0, 0, 0, 1));\n",
       "  --xr-font-color2: var(--jp-content-font-color2, rgba(0, 0, 0, 0.54));\n",
       "  --xr-font-color3: var(--jp-content-font-color3, rgba(0, 0, 0, 0.38));\n",
       "  --xr-border-color: var(--jp-border-color2, #e0e0e0);\n",
       "  --xr-disabled-color: var(--jp-layout-color3, #bdbdbd);\n",
       "  --xr-background-color: var(--jp-layout-color0, white);\n",
       "  --xr-background-color-row-even: var(--jp-layout-color1, white);\n",
       "  --xr-background-color-row-odd: var(--jp-layout-color2, #eeeeee);\n",
       "}\n",
       "\n",
       "html[theme=dark],\n",
       "body[data-theme=dark],\n",
       "body.vscode-dark {\n",
       "  --xr-font-color0: rgba(255, 255, 255, 1);\n",
       "  --xr-font-color2: rgba(255, 255, 255, 0.54);\n",
       "  --xr-font-color3: rgba(255, 255, 255, 0.38);\n",
       "  --xr-border-color: #1F1F1F;\n",
       "  --xr-disabled-color: #515151;\n",
       "  --xr-background-color: #111111;\n",
       "  --xr-background-color-row-even: #111111;\n",
       "  --xr-background-color-row-odd: #313131;\n",
       "}\n",
       "\n",
       ".xr-wrap {\n",
       "  display: block !important;\n",
       "  min-width: 300px;\n",
       "  max-width: 700px;\n",
       "}\n",
       "\n",
       ".xr-text-repr-fallback {\n",
       "  /* fallback to plain text repr when CSS is not injected (untrusted notebook) */\n",
       "  display: none;\n",
       "}\n",
       "\n",
       ".xr-header {\n",
       "  padding-top: 6px;\n",
       "  padding-bottom: 6px;\n",
       "  margin-bottom: 4px;\n",
       "  border-bottom: solid 1px var(--xr-border-color);\n",
       "}\n",
       "\n",
       ".xr-header > div,\n",
       ".xr-header > ul {\n",
       "  display: inline;\n",
       "  margin-top: 0;\n",
       "  margin-bottom: 0;\n",
       "}\n",
       "\n",
       ".xr-obj-type,\n",
       ".xr-array-name {\n",
       "  margin-left: 2px;\n",
       "  margin-right: 10px;\n",
       "}\n",
       "\n",
       ".xr-obj-type {\n",
       "  color: var(--xr-font-color2);\n",
       "}\n",
       "\n",
       ".xr-sections {\n",
       "  padding-left: 0 !important;\n",
       "  display: grid;\n",
       "  grid-template-columns: 150px auto auto 1fr 20px 20px;\n",
       "}\n",
       "\n",
       ".xr-section-item {\n",
       "  display: contents;\n",
       "}\n",
       "\n",
       ".xr-section-item input {\n",
       "  display: none;\n",
       "}\n",
       "\n",
       ".xr-section-item input + label {\n",
       "  color: var(--xr-disabled-color);\n",
       "}\n",
       "\n",
       ".xr-section-item input:enabled + label {\n",
       "  cursor: pointer;\n",
       "  color: var(--xr-font-color2);\n",
       "}\n",
       "\n",
       ".xr-section-item input:enabled + label:hover {\n",
       "  color: var(--xr-font-color0);\n",
       "}\n",
       "\n",
       ".xr-section-summary {\n",
       "  grid-column: 1;\n",
       "  color: var(--xr-font-color2);\n",
       "  font-weight: 500;\n",
       "}\n",
       "\n",
       ".xr-section-summary > span {\n",
       "  display: inline-block;\n",
       "  padding-left: 0.5em;\n",
       "}\n",
       "\n",
       ".xr-section-summary-in:disabled + label {\n",
       "  color: var(--xr-font-color2);\n",
       "}\n",
       "\n",
       ".xr-section-summary-in + label:before {\n",
       "  display: inline-block;\n",
       "  content: '►';\n",
       "  font-size: 11px;\n",
       "  width: 15px;\n",
       "  text-align: center;\n",
       "}\n",
       "\n",
       ".xr-section-summary-in:disabled + label:before {\n",
       "  color: var(--xr-disabled-color);\n",
       "}\n",
       "\n",
       ".xr-section-summary-in:checked + label:before {\n",
       "  content: '▼';\n",
       "}\n",
       "\n",
       ".xr-section-summary-in:checked + label > span {\n",
       "  display: none;\n",
       "}\n",
       "\n",
       ".xr-section-summary,\n",
       ".xr-section-inline-details {\n",
       "  padding-top: 4px;\n",
       "  padding-bottom: 4px;\n",
       "}\n",
       "\n",
       ".xr-section-inline-details {\n",
       "  grid-column: 2 / -1;\n",
       "}\n",
       "\n",
       ".xr-section-details {\n",
       "  display: none;\n",
       "  grid-column: 1 / -1;\n",
       "  margin-bottom: 5px;\n",
       "}\n",
       "\n",
       ".xr-section-summary-in:checked ~ .xr-section-details {\n",
       "  display: contents;\n",
       "}\n",
       "\n",
       ".xr-array-wrap {\n",
       "  grid-column: 1 / -1;\n",
       "  display: grid;\n",
       "  grid-template-columns: 20px auto;\n",
       "}\n",
       "\n",
       ".xr-array-wrap > label {\n",
       "  grid-column: 1;\n",
       "  vertical-align: top;\n",
       "}\n",
       "\n",
       ".xr-preview {\n",
       "  color: var(--xr-font-color3);\n",
       "}\n",
       "\n",
       ".xr-array-preview,\n",
       ".xr-array-data {\n",
       "  padding: 0 5px !important;\n",
       "  grid-column: 2;\n",
       "}\n",
       "\n",
       ".xr-array-data,\n",
       ".xr-array-in:checked ~ .xr-array-preview {\n",
       "  display: none;\n",
       "}\n",
       "\n",
       ".xr-array-in:checked ~ .xr-array-data,\n",
       ".xr-array-preview {\n",
       "  display: inline-block;\n",
       "}\n",
       "\n",
       ".xr-dim-list {\n",
       "  display: inline-block !important;\n",
       "  list-style: none;\n",
       "  padding: 0 !important;\n",
       "  margin: 0;\n",
       "}\n",
       "\n",
       ".xr-dim-list li {\n",
       "  display: inline-block;\n",
       "  padding: 0;\n",
       "  margin: 0;\n",
       "}\n",
       "\n",
       ".xr-dim-list:before {\n",
       "  content: '(';\n",
       "}\n",
       "\n",
       ".xr-dim-list:after {\n",
       "  content: ')';\n",
       "}\n",
       "\n",
       ".xr-dim-list li:not(:last-child):after {\n",
       "  content: ',';\n",
       "  padding-right: 5px;\n",
       "}\n",
       "\n",
       ".xr-has-index {\n",
       "  font-weight: bold;\n",
       "}\n",
       "\n",
       ".xr-var-list,\n",
       ".xr-var-item {\n",
       "  display: contents;\n",
       "}\n",
       "\n",
       ".xr-var-item > div,\n",
       ".xr-var-item label,\n",
       ".xr-var-item > .xr-var-name span {\n",
       "  background-color: var(--xr-background-color-row-even);\n",
       "  margin-bottom: 0;\n",
       "}\n",
       "\n",
       ".xr-var-item > .xr-var-name:hover span {\n",
       "  padding-right: 5px;\n",
       "}\n",
       "\n",
       ".xr-var-list > li:nth-child(odd) > div,\n",
       ".xr-var-list > li:nth-child(odd) > label,\n",
       ".xr-var-list > li:nth-child(odd) > .xr-var-name span {\n",
       "  background-color: var(--xr-background-color-row-odd);\n",
       "}\n",
       "\n",
       ".xr-var-name {\n",
       "  grid-column: 1;\n",
       "}\n",
       "\n",
       ".xr-var-dims {\n",
       "  grid-column: 2;\n",
       "}\n",
       "\n",
       ".xr-var-dtype {\n",
       "  grid-column: 3;\n",
       "  text-align: right;\n",
       "  color: var(--xr-font-color2);\n",
       "}\n",
       "\n",
       ".xr-var-preview {\n",
       "  grid-column: 4;\n",
       "}\n",
       "\n",
       ".xr-index-preview {\n",
       "  grid-column: 2 / 5;\n",
       "  color: var(--xr-font-color2);\n",
       "}\n",
       "\n",
       ".xr-var-name,\n",
       ".xr-var-dims,\n",
       ".xr-var-dtype,\n",
       ".xr-preview,\n",
       ".xr-attrs dt {\n",
       "  white-space: nowrap;\n",
       "  overflow: hidden;\n",
       "  text-overflow: ellipsis;\n",
       "  padding-right: 10px;\n",
       "}\n",
       "\n",
       ".xr-var-name:hover,\n",
       ".xr-var-dims:hover,\n",
       ".xr-var-dtype:hover,\n",
       ".xr-attrs dt:hover {\n",
       "  overflow: visible;\n",
       "  width: auto;\n",
       "  z-index: 1;\n",
       "}\n",
       "\n",
       ".xr-var-attrs,\n",
       ".xr-var-data,\n",
       ".xr-index-data {\n",
       "  display: none;\n",
       "  background-color: var(--xr-background-color) !important;\n",
       "  padding-bottom: 5px !important;\n",
       "}\n",
       "\n",
       ".xr-var-attrs-in:checked ~ .xr-var-attrs,\n",
       ".xr-var-data-in:checked ~ .xr-var-data,\n",
       ".xr-index-data-in:checked ~ .xr-index-data {\n",
       "  display: block;\n",
       "}\n",
       "\n",
       ".xr-var-data > table {\n",
       "  float: right;\n",
       "}\n",
       "\n",
       ".xr-var-name span,\n",
       ".xr-var-data,\n",
       ".xr-index-name div,\n",
       ".xr-index-data,\n",
       ".xr-attrs {\n",
       "  padding-left: 25px !important;\n",
       "}\n",
       "\n",
       ".xr-attrs,\n",
       ".xr-var-attrs,\n",
       ".xr-var-data,\n",
       ".xr-index-data {\n",
       "  grid-column: 1 / -1;\n",
       "}\n",
       "\n",
       "dl.xr-attrs {\n",
       "  padding: 0;\n",
       "  margin: 0;\n",
       "  display: grid;\n",
       "  grid-template-columns: 125px auto;\n",
       "}\n",
       "\n",
       ".xr-attrs dt,\n",
       ".xr-attrs dd {\n",
       "  padding: 0;\n",
       "  margin: 0;\n",
       "  float: left;\n",
       "  padding-right: 10px;\n",
       "  width: auto;\n",
       "}\n",
       "\n",
       ".xr-attrs dt {\n",
       "  font-weight: normal;\n",
       "  grid-column: 1;\n",
       "}\n",
       "\n",
       ".xr-attrs dt:hover span {\n",
       "  display: inline-block;\n",
       "  background: var(--xr-background-color);\n",
       "  padding-right: 10px;\n",
       "}\n",
       "\n",
       ".xr-attrs dd {\n",
       "  grid-column: 2;\n",
       "  white-space: pre-wrap;\n",
       "  word-break: break-all;\n",
       "}\n",
       "\n",
       ".xr-icon-database,\n",
       ".xr-icon-file-text2,\n",
       ".xr-no-icon {\n",
       "  display: inline-block;\n",
       "  vertical-align: middle;\n",
       "  width: 1em;\n",
       "  height: 1.5em !important;\n",
       "  stroke-width: 0;\n",
       "  stroke: currentColor;\n",
       "  fill: currentColor;\n",
       "}\n",
       "</style><pre class='xr-text-repr-fallback'>&lt;xarray.DataArray &#x27;elevation&#x27; (lat: 720, lon: 1620)&gt;\n",
       "[1166400 values with dtype=int16]\n",
       "Coordinates:\n",
       "  * lat      (lat) float64 53.0 53.01 53.01 53.01 ... 55.99 55.99 55.99 56.0\n",
       "  * lon      (lon) float64 2.502 2.506 2.51 2.515 ... 9.235 9.24 9.244 9.248\n",
       "Attributes:\n",
       "    standard_name:       height_above_reference_ellipsoid\n",
       "    long_name:           Elevation relative to sea level\n",
       "    units:               m\n",
       "    sdn_parameter_urn:   SDN:P01::BATHHGHT\n",
       "    sdn_parameter_name:  Sea floor height (above mean sea level) {bathymetric...\n",
       "    sdn_uom_urn:         SDN:P06::ULAA\n",
       "    sdn_uom_name:        Metres</pre><div class='xr-wrap' style='display:none'><div class='xr-header'><div class='xr-obj-type'>xarray.DataArray</div><div class='xr-array-name'>'elevation'</div><ul class='xr-dim-list'><li><span class='xr-has-index'>lat</span>: 720</li><li><span class='xr-has-index'>lon</span>: 1620</li></ul></div><ul class='xr-sections'><li class='xr-section-item'><div class='xr-array-wrap'><input id='section-5f20a276-1ce7-4a99-b47d-d54a4d40832d' class='xr-array-in' type='checkbox' checked><label for='section-5f20a276-1ce7-4a99-b47d-d54a4d40832d' title='Show/hide data repr'><svg class='icon xr-icon-database'><use xlink:href='#icon-database'></use></svg></label><div class='xr-array-preview xr-preview'><span>...</span></div><div class='xr-array-data'><pre>[1166400 values with dtype=int16]</pre></div></div></li><li class='xr-section-item'><input id='section-610512d8-78e5-4d0b-a248-2e6cc85c4174' class='xr-section-summary-in' type='checkbox'  checked><label for='section-610512d8-78e5-4d0b-a248-2e6cc85c4174' class='xr-section-summary' >Coordinates: <span>(2)</span></label><div class='xr-section-inline-details'></div><div class='xr-section-details'><ul class='xr-var-list'><li class='xr-var-item'><div class='xr-var-name'><span class='xr-has-index'>lat</span></div><div class='xr-var-dims'>(lat)</div><div class='xr-var-dtype'>float64</div><div class='xr-var-preview xr-preview'>53.0 53.01 53.01 ... 55.99 56.0</div><input id='attrs-705d85d6-e272-46a4-b555-cae4279fa1c1' class='xr-var-attrs-in' type='checkbox' ><label for='attrs-705d85d6-e272-46a4-b555-cae4279fa1c1' title='Show/Hide attributes'><svg class='icon xr-icon-file-text2'><use xlink:href='#icon-file-text2'></use></svg></label><input id='data-85a5843b-d4c9-4f8e-9e57-288106270fe4' class='xr-var-data-in' type='checkbox'><label for='data-85a5843b-d4c9-4f8e-9e57-288106270fe4' title='Show/Hide data repr'><svg class='icon xr-icon-database'><use xlink:href='#icon-database'></use></svg></label><div class='xr-var-attrs'><dl class='xr-attrs'><dt><span>standard_name :</span></dt><dd>latitude</dd><dt><span>long_name :</span></dt><dd>latitude</dd><dt><span>units :</span></dt><dd>degrees_north</dd><dt><span>axis :</span></dt><dd>Y</dd><dt><span>sdn_parameter_urn :</span></dt><dd>SDN:P01::ALATZZ01</dd><dt><span>sdn_parameter_name :</span></dt><dd>Latitude north</dd><dt><span>sdn_uom_urn :</span></dt><dd>SDN:P06::DEGN</dd><dt><span>sdn_uom_name :</span></dt><dd>Degrees north</dd></dl></div><div class='xr-var-data'><pre>array([53.002083, 53.00625 , 53.010417, ..., 55.989583, 55.99375 , 55.997917])</pre></div></li><li class='xr-var-item'><div class='xr-var-name'><span class='xr-has-index'>lon</span></div><div class='xr-var-dims'>(lon)</div><div class='xr-var-dtype'>float64</div><div class='xr-var-preview xr-preview'>2.502 2.506 2.51 ... 9.244 9.248</div><input id='attrs-09efcc49-a5b6-4d21-b940-e70a61eea082' class='xr-var-attrs-in' type='checkbox' ><label for='attrs-09efcc49-a5b6-4d21-b940-e70a61eea082' title='Show/Hide attributes'><svg class='icon xr-icon-file-text2'><use xlink:href='#icon-file-text2'></use></svg></label><input id='data-c38c30c7-eef9-4387-8bef-8776cf3b1b85' class='xr-var-data-in' type='checkbox'><label for='data-c38c30c7-eef9-4387-8bef-8776cf3b1b85' title='Show/Hide data repr'><svg class='icon xr-icon-database'><use xlink:href='#icon-database'></use></svg></label><div class='xr-var-attrs'><dl class='xr-attrs'><dt><span>standard_name :</span></dt><dd>longitude</dd><dt><span>long_name :</span></dt><dd>longitude</dd><dt><span>units :</span></dt><dd>degrees_east</dd><dt><span>axis :</span></dt><dd>X</dd><dt><span>sdn_parameter_urn :</span></dt><dd>SDN:P01::ALONZZ01</dd><dt><span>sdn_parameter_name :</span></dt><dd>Longitude east</dd><dt><span>sdn_uom_urn :</span></dt><dd>SDN:P06::DEGE</dd><dt><span>sdn_uom_name :</span></dt><dd>Degrees east</dd></dl></div><div class='xr-var-data'><pre>array([2.502083, 2.50625 , 2.510417, ..., 9.239583, 9.24375 , 9.247917])</pre></div></li></ul></div></li><li class='xr-section-item'><input id='section-db34c0d3-2a7d-4bfa-8df7-48e873f39295' class='xr-section-summary-in' type='checkbox'  ><label for='section-db34c0d3-2a7d-4bfa-8df7-48e873f39295' class='xr-section-summary' >Indexes: <span>(2)</span></label><div class='xr-section-inline-details'></div><div class='xr-section-details'><ul class='xr-var-list'><li class='xr-var-item'><div class='xr-index-name'><div>lat</div></div><div class='xr-index-preview'>PandasIndex</div><div></div><input id='index-08973bf9-6551-4b75-8935-e31d6f7c69c5' class='xr-index-data-in' type='checkbox'/><label for='index-08973bf9-6551-4b75-8935-e31d6f7c69c5' title='Show/Hide index repr'><svg class='icon xr-icon-database'><use xlink:href='#icon-database'></use></svg></label><div class='xr-index-data'><pre>PandasIndex(Float64Index([ 53.00208333333333, 53.006249999999994,  53.01041666666666,\n",
       "               53.01458333333332,  53.01875000000001, 53.022916666666674,\n",
       "               53.02708333333334,           53.03125,  53.03541666666666,\n",
       "              53.039583333333326,\n",
       "              ...\n",
       "              55.960416666666674,  55.96458333333334,           55.96875,\n",
       "               55.97291666666666, 55.977083333333326,  55.98124999999999,\n",
       "               55.98541666666665,  55.98958333333334, 55.993750000000006,\n",
       "               55.99791666666667],\n",
       "             dtype=&#x27;float64&#x27;, name=&#x27;lat&#x27;, length=720))</pre></div></li><li class='xr-var-item'><div class='xr-index-name'><div>lon</div></div><div class='xr-index-preview'>PandasIndex</div><div></div><input id='index-ea8147b0-1919-4585-91b3-35f74117619f' class='xr-index-data-in' type='checkbox'/><label for='index-ea8147b0-1919-4585-91b3-35f74117619f' title='Show/Hide index repr'><svg class='icon xr-icon-database'><use xlink:href='#icon-database'></use></svg></label><div class='xr-index-data'><pre>PandasIndex(Float64Index([2.5020833333333314, 2.5062499999999943,  2.510416666666657,\n",
       "                2.51458333333332, 2.5187500000000114, 2.5229166666666742,\n",
       "               2.527083333333337,            2.53125,  2.535416666666663,\n",
       "              2.5395833333333258,\n",
       "              ...\n",
       "               9.210416666666674,  9.214583333333337,            9.21875,\n",
       "               9.222916666666663,  9.227083333333326,  9.231249999999989,\n",
       "               9.235416666666652,  9.239583333333343,  9.243750000000006,\n",
       "               9.247916666666669],\n",
       "             dtype=&#x27;float64&#x27;, name=&#x27;lon&#x27;, length=1620))</pre></div></li></ul></div></li><li class='xr-section-item'><input id='section-254cadb0-e772-4b4a-a960-08b3125b16c3' class='xr-section-summary-in' type='checkbox'  checked><label for='section-254cadb0-e772-4b4a-a960-08b3125b16c3' class='xr-section-summary' >Attributes: <span>(7)</span></label><div class='xr-section-inline-details'></div><div class='xr-section-details'><dl class='xr-attrs'><dt><span>standard_name :</span></dt><dd>height_above_reference_ellipsoid</dd><dt><span>long_name :</span></dt><dd>Elevation relative to sea level</dd><dt><span>units :</span></dt><dd>m</dd><dt><span>sdn_parameter_urn :</span></dt><dd>SDN:P01::BATHHGHT</dd><dt><span>sdn_parameter_name :</span></dt><dd>Sea floor height (above mean sea level) {bathymetric height}</dd><dt><span>sdn_uom_urn :</span></dt><dd>SDN:P06::ULAA</dd><dt><span>sdn_uom_name :</span></dt><dd>Metres</dd></dl></div></li></ul></div></div>"
      ],
      "text/plain": [
       "<xarray.DataArray 'elevation' (lat: 720, lon: 1620)>\n",
       "[1166400 values with dtype=int16]\n",
       "Coordinates:\n",
       "  * lat      (lat) float64 53.0 53.01 53.01 53.01 ... 55.99 55.99 55.99 56.0\n",
       "  * lon      (lon) float64 2.502 2.506 2.51 2.515 ... 9.235 9.24 9.244 9.248\n",
       "Attributes:\n",
       "    standard_name:       height_above_reference_ellipsoid\n",
       "    long_name:           Elevation relative to sea level\n",
       "    units:               m\n",
       "    sdn_parameter_urn:   SDN:P01::BATHHGHT\n",
       "    sdn_parameter_name:  Sea floor height (above mean sea level) {bathymetric...\n",
       "    sdn_uom_urn:         SDN:P06::ULAA\n",
       "    sdn_uom_name:        Metres"
      ]
     },
     "execution_count": 13,
     "metadata": {},
     "output_type": "execute_result"
    }
   ],
   "source": [
    "ds_bat"
   ]
  },
  {
   "cell_type": "markdown",
   "id": "49a45b59",
   "metadata": {},
   "source": [
    "## Create a lat/lon grid so we can plot a field."
   ]
  },
  {
   "cell_type": "code",
   "execution_count": 16,
   "id": "bd5e300c",
   "metadata": {},
   "outputs": [],
   "source": [
    "xx,yy = np.meshgrid(ds_bat.lon, ds_bat.lat)"
   ]
  },
  {
   "cell_type": "code",
   "execution_count": 7,
   "id": "8bff86e5",
   "metadata": {},
   "outputs": [
    {
     "ename": "NameError",
     "evalue": "name 'ccrs' is not defined",
     "output_type": "error",
     "traceback": [
      "\u001b[1;31m---------------------------------------------------------------------------\u001b[0m",
      "\u001b[1;31mNameError\u001b[0m                                 Traceback (most recent call last)",
      "Cell \u001b[1;32mIn[7], line 2\u001b[0m\n\u001b[0;32m      1\u001b[0m plt\u001b[38;5;241m.\u001b[39mfigure(figsize\u001b[38;5;241m=\u001b[39m(\u001b[38;5;241m10\u001b[39m,\u001b[38;5;241m8\u001b[39m))\n\u001b[1;32m----> 2\u001b[0m ax\u001b[38;5;241m=\u001b[39mplt\u001b[38;5;241m.\u001b[39maxes(projection\u001b[38;5;241m=\u001b[39mccrs\u001b[38;5;241m.\u001b[39mMercator(central_longitude\u001b[38;5;241m=\u001b[39m\u001b[38;5;241m7.1\u001b[39m))\n\u001b[0;32m      3\u001b[0m img\u001b[38;5;241m=\u001b[39mds_bat\u001b[38;5;241m.\u001b[39mplot\u001b[38;5;241m.\u001b[39mpcolormesh( shading\u001b[38;5;241m=\u001b[39m\u001b[38;5;124m'\u001b[39m\u001b[38;5;124mauto\u001b[39m\u001b[38;5;124m'\u001b[39m,\n\u001b[0;32m      4\u001b[0m                               cbar_kwargs\u001b[38;5;241m=\u001b[39m{\u001b[38;5;124m'\u001b[39m\u001b[38;5;124mshrink\u001b[39m\u001b[38;5;124m'\u001b[39m: \u001b[38;5;241m0.8\u001b[39m,\u001b[38;5;124m'\u001b[39m\u001b[38;5;124mpad\u001b[39m\u001b[38;5;124m'\u001b[39m:\u001b[38;5;241m0.01\u001b[39m},extend\u001b[38;5;241m=\u001b[39m\u001b[38;5;124m'\u001b[39m\u001b[38;5;124mneither\u001b[39m\u001b[38;5;124m'\u001b[39m,transform\u001b[38;5;241m=\u001b[39mccrs\u001b[38;5;241m.\u001b[39mPlateCarree())\n\u001b[0;32m      5\u001b[0m CS\u001b[38;5;241m=\u001b[39max\u001b[38;5;241m.\u001b[39mcontour(xx,yy,ds_bat,levels\u001b[38;5;241m=\u001b[39m[\u001b[38;5;241m-\u001b[39m\u001b[38;5;241m30\u001b[39m], colors\u001b[38;5;241m=\u001b[39m\u001b[38;5;124m'\u001b[39m\u001b[38;5;124mgray\u001b[39m\u001b[38;5;124m'\u001b[39m,linestyles\u001b[38;5;241m=\u001b[39m[\u001b[38;5;124m'\u001b[39m\u001b[38;5;124mdashed\u001b[39m\u001b[38;5;124m'\u001b[39m,\u001b[38;5;124m'\u001b[39m\u001b[38;5;124msolid\u001b[39m\u001b[38;5;124m'\u001b[39m,\u001b[38;5;124m'\u001b[39m\u001b[38;5;124m-.\u001b[39m\u001b[38;5;124m'\u001b[39m],transform\u001b[38;5;241m=\u001b[39mccrs\u001b[38;5;241m.\u001b[39mPlateCarree())\n",
      "\u001b[1;31mNameError\u001b[0m: name 'ccrs' is not defined"
     ]
    }
   ],
   "source": [
    "plt.figure(figsize=(10,8))\n",
    "ax=plt.axes(projection=ccrs.Mercator(central_longitude=7.1))\n",
    "img=ds_bat.plot.pcolormesh( shading='auto',\n",
    "                              cbar_kwargs={'shrink': 0.8,'pad':0.01},extend='neither',transform=ccrs.PlateCarree())\n",
    "CS=ax.contour(xx,yy,ds_bat,levels=[-30], colors='gray',linestyles=['dashed','solid','-.'],transform=ccrs.PlateCarree())\n",
    "ax.clabel(CS, inline=True,fontsize=18, fmt='%1.0f',colors='k')\n",
    "ax.set_xlabel('Longitude (°)')\n",
    "ax.set_ylabel('Latitude (°)')\n",
    "ax.plot(7.89,54.19,'*k',markersize=14,markeredgecolor='w',transform=ccrs.PlateCarree())\n",
    "ax.add_feature(cfeature.LAND, facecolor='grey')\n",
    "ax.coastlines()\n",
    "ax.set_yticks([53, 54,55,56], crs=ccrs.PlateCarree())\n",
    "ax.set_xticks([3, 6, 9], crs=ccrs.PlateCarree())\n",
    "ax.set_yticklabels([53, 54,55,56])\n",
    "ax.set_xticklabels([3, 6, 9])\n",
    "plt.text(0.782, 0.89, '(m)')"
   ]
  }
 ],
 "metadata": {
  "kernelspec": {
   "display_name": "Python 3 (ipykernel)",
   "language": "python",
   "name": "python3"
  },
  "language_info": {
   "codemirror_mode": {
    "name": "ipython",
    "version": 3
   },
   "file_extension": ".py",
   "mimetype": "text/x-python",
   "name": "python",
   "nbconvert_exporter": "python",
   "pygments_lexer": "ipython3",
   "version": "3.11.4"
  }
 },
 "nbformat": 4,
 "nbformat_minor": 5
}
